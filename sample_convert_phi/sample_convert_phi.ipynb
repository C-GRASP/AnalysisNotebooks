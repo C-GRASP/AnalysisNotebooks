{
 "cells": [
  {
   "cell_type": "markdown",
   "metadata": {},
   "source": [
    "<table style=\"font-size: 1em; padding: 0; margin: 0;\">\n",
    "\n",
    "<tr style=\"vertical-align: top; padding: 0; margin: 0;background-color: #ffffff\">\n",
    "        <td style=\"vertical-align: top; padding: 0; margin: 0; padding-right: 15px;\">\n",
    "    <p style=\"background: #182AEB; color:#ffffff; text-align:justify; padding: 10px 25px;\">\n",
    "        <strong style=\"font-size: 1.0em;\"><span style=\"font-size: 1.2em;\"><span style=\"color: #ffffff;\">The Coastal Grain Size Portal (C-GRASP) dataset <br/><em>Will Speiser, Daniel Buscombe, Evan Goldstein</em></strong><br/><br/>\n",
    "        <strong>> Convert Sample Measurements to Phi </strong><br/>\n",
    "    </p>                       \n",
    "        \n",
    "<p style=\"border: 1px solid #ff5733; border-left: 15px solid #ff5733; padding: 10px; text-align:justify;\">\n",
    "    <strong style=\"color: #ff5733\">The purpose of this notebook</strong>  \n",
    "    <br/><font color=grey> This notebook will output a dataframe containing all of the data from a chosen C-GRASP dataset with all measurements in mm units converted to Phi units. As C-Grasp file sizes vary completion of this task will vary with internet connectivity.<font><br/>\n",
    "    <br/><font color=grey> This notebook provides simple code in order to convert measurements in mm to phi for each sample within a dataset.<font><br/>    \n",
    "    <br/><font color=grey> To do so, a user can choose a dataset of choice. <font><br/>\n",
    "    <br/><font color=grey> The notebook then runs a simple conversion on each column containing mm untis and converts them to Phi.<font><br/>    \n",
    "    </p>\n",
    "\n"
   ]
  },
  {
   "cell_type": "code",
   "execution_count": 2,
   "metadata": {},
   "outputs": [],
   "source": [
    "import pandas as pd\n",
    "import numpy as np\n",
    "import ipywidgets"
   ]
  },
  {
   "cell_type": "markdown",
   "metadata": {},
   "source": [
    "#### Select a dataset"
   ]
  },
  {
   "cell_type": "code",
   "execution_count": 3,
   "metadata": {},
   "outputs": [
    {
     "data": {
      "application/vnd.jupyter.widget-view+json": {
       "model_id": "240ee91c51ec49bb903d11bbc282ea6c",
       "version_major": 2,
       "version_minor": 0
      },
      "text/plain": [
       "Select(description='Dataset:', options=('Entire Dataset', 'Estimated Onshore Data', 'Verified Onshore Data', '…"
      ]
     },
     "metadata": {},
     "output_type": "display_data"
    }
   ],
   "source": [
    "#Dataset collection widget\n",
    "zen=ipywidgets.Select(\n",
    "    options=['Entire Dataset', 'Estimated Onshore Data', 'Verified Onshore Data', 'Verified Onshore Post 2012 Data'],\n",
    "    value='Entire Dataset',\n",
    "    # rows=10,\n",
    "    description='Dataset:',\n",
    "    disabled=False\n",
    ")\n",
    "\n",
    "display(zen)"
   ]
  },
  {
   "cell_type": "markdown",
   "metadata": {},
   "source": [
    "#### Download that dataset"
   ]
  },
  {
   "cell_type": "code",
   "execution_count": null,
   "metadata": {},
   "outputs": [],
   "source": [
    "url = 'https://zenodo.org/record/5874231/files/' \n",
    "if zen.value=='Entire Dataset':\n",
    "    filename='dataset_10kmcoast.csv'\n",
    "if zen.value=='Estimated Onshore Data':\n",
    "    filename='Data_EstimatedOnshore.csv'\n",
    "if zen.value=='Verified Onshore Data':\n",
    "    filename='Data_VerifiedOnshore.csv'\n",
    "if zen.value=='Verified Onshore Post 2012 Data':\n",
    "    filename='Data_Post2012_VerifiedOnshore.csv'\n",
    "\n",
    "print(\"Downloading {}\".format(url+filename))   \n"
   ]
  },
  {
   "cell_type": "markdown",
   "metadata": {},
   "source": [
    "The next cell will download the CGRASP dataset and read it in as a pandas dataframe with variable name `df`"
   ]
  },
  {
   "cell_type": "code",
   "execution_count": null,
   "metadata": {},
   "outputs": [],
   "source": [
    "url=(url+filename)\n",
    "print('Retrieving Data, Please Wait')\n",
    "#retrieve data\n",
    "df=pd.read_csv(url)\n",
    "print('Sediment Data Retrieved!') "
   ]
  },
  {
   "cell_type": "markdown",
   "metadata": {},
   "source": [
    "Let's take a quick look at the top of the file"
   ]
  },
  {
   "cell_type": "code",
   "execution_count": null,
   "metadata": {
    "scrolled": true
   },
   "outputs": [],
   "source": [
    "df.head()"
   ]
  },
  {
   "cell_type": "markdown",
   "metadata": {},
   "source": [
    "### Convert to mm\n",
    " \n",
    "This cell converts a column  in mm to Phi units using numpy by looping through each column listed as containing mm values"
   ]
  },
  {
   "cell_type": "code",
   "execution_count": null,
   "metadata": {},
   "outputs": [],
   "source": [
    "measurement_columns=('Grainsize','Mean','Median','Kurtosis','Skewness','Std', 'd5',\n",
    "                       'd10','d16','d25','d30','d50','d65','d75','d84','d90','d95') #All columns with mm measurements\n",
    "\n",
    "\n",
    "i=0\n",
    "for i in range(0, len(measurement_columns)): #loop through each field in mm\n",
    "    df[measurement_columns[i]]= -1*(np.log2((df[measurement_columns[i]].astype(float)))) #convert that field to mm\n",
    "    i=i+1\n",
    "\n",
    "print('Done!')"
   ]
  },
  {
   "cell_type": "markdown",
   "metadata": {},
   "source": [
    "Let's view the file again, this time converted to phi units"
   ]
  },
  {
   "cell_type": "code",
   "execution_count": null,
   "metadata": {},
   "outputs": [],
   "source": [
    "df.head()"
   ]
  },
  {
   "cell_type": "markdown",
   "metadata": {},
   "source": [
    "### Write to file"
   ]
  },
  {
   "cell_type": "markdown",
   "metadata": {},
   "source": [
    "Finally, define a csv file name for the output dataframe"
   ]
  },
  {
   "cell_type": "code",
   "execution_count": null,
   "metadata": {},
   "outputs": [],
   "source": [
    "output_csvfile='../data_phi.csv'"
   ]
  },
  {
   "cell_type": "markdown",
   "metadata": {},
   "source": [
    "Write the data to that csv file"
   ]
  },
  {
   "cell_type": "code",
   "execution_count": null,
   "metadata": {
    "scrolled": true
   },
   "outputs": [],
   "source": [
    "df.to_csv(output_csvfile)"
   ]
  }
 ],
 "metadata": {
  "kernelspec": {
   "display_name": "Python 3",
   "language": "python",
   "name": "python3"
  },
  "language_info": {
   "codemirror_mode": {
    "name": "ipython",
    "version": 3
   },
   "file_extension": ".py",
   "mimetype": "text/x-python",
   "name": "python",
   "nbconvert_exporter": "python",
   "pygments_lexer": "ipython3",
   "version": "3.8.3"
  }
 },
 "nbformat": 4,
 "nbformat_minor": 5
}
