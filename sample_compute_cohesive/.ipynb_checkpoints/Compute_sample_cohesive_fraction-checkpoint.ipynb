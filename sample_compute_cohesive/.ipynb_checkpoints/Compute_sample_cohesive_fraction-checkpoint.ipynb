{
 "cells": [
  {
   "cell_type": "markdown",
   "id": "33e98304",
   "metadata": {},
   "source": [
    "## Compute Cohesive Fraction (< sand size) from a C-GRASP grain size record"
   ]
  },
  {
   "cell_type": "code",
   "execution_count": null,
   "id": "c7d0fcfa",
   "metadata": {},
   "outputs": [],
   "source": []
  }
 ],
 "metadata": {
  "kernelspec": {
   "display_name": "Python 3",
   "language": "python",
   "name": "python3"
  },
  "language_info": {
   "codemirror_mode": {
    "name": "ipython",
    "version": 3
   },
   "file_extension": ".py",
   "mimetype": "text/x-python",
   "name": "python",
   "nbconvert_exporter": "python",
   "pygments_lexer": "ipython3",
   "version": "3.6.10"
  }
 },
 "nbformat": 4,
 "nbformat_minor": 5
}
