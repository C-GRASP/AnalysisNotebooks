{
 "cells": [
  {
   "cell_type": "markdown",
   "metadata": {},
   "source": [
    "# Convert data to/from phi to/from mm\n",
    "\n",
    "## This notebook is a guide for converting a column of data from phi to mm, vice versa.\n",
    "\n",
    "* To do so, the user enters the file path of their desired dataset. We provide an example, but you can change the filepath variable to a path on your local disk.\n",
    "\n",
    "* You then enter the column in which you desire to convert, and then the unit you wish to convert to (mm or phi)\n",
    "\n",
    "\n",
    "## <font color=grey> *This notebook's output is your input dataframe but with converted specified columns*<font>\n",
    "\n",
    "\n"
   ]
  },
  {
   "cell_type": "markdown",
   "metadata": {},
   "source": [
    "## Run these two cells  to get everything set up. The second cell is only necessary in this example to pull the example data from Google Drive:"
   ]
  },
  {
   "cell_type": "code",
   "execution_count": null,
   "metadata": {},
   "outputs": [],
   "source": [
    "import pandas as pd\n",
    "import numpy as np\n",
    "import requests"
   ]
  },
  {
   "cell_type": "code",
   "execution_count": null,
   "metadata": {},
   "outputs": [],
   "source": [
    "# from https://stackoverflow.com/questions/38511444/python-download-files-from-google-drive-using-url\n",
    "\n",
    "def download_file_from_google_drive(id, destination):\n",
    "    URL = \"https://docs.google.com/uc?export=download\"\n",
    "\n",
    "    session = requests.Session()\n",
    "\n",
    "    response = session.get(URL, params = { 'id' : id }, stream = True)\n",
    "    token = get_confirm_token(response)\n",
    "\n",
    "    if token:\n",
    "        params = { 'id' : id, 'confirm' : token }\n",
    "        response = session.get(URL, params = params, stream = True)\n",
    "\n",
    "    save_response_content(response, destination)    \n",
    "\n",
    "def get_confirm_token(response):\n",
    "    for key, value in response.cookies.items():\n",
    "        if key.startswith('download_warning'):\n",
    "            return value\n",
    "\n",
    "    return None\n",
    "\n",
    "def save_response_content(response, destination):\n",
    "    \"\"\"\n",
    "    response = filename for input\n",
    "    destination = filename for output\n",
    "    \"\"\"    \n",
    "    CHUNK_SIZE = 32768\n",
    "\n",
    "    with open(destination, \"wb\") as f:\n",
    "        for chunk in response.iter_content(CHUNK_SIZE):\n",
    "            if chunk: # filter out keep-alive new chunks\n",
    "                f.write(chunk)\n",
    "\n",
    "\n",
    "DATASET_ID = '1p_x1boL12i-Yt1Eou845vf4CbaOEEOLr'\n",
    "\n",
    "\n",
    "destination = '../data.csv'\n",
    "download_file_from_google_drive(DATASET_ID, destination)\n",
    "df= pd.read_csv(destination)\n"
   ]
  },
  {
   "cell_type": "markdown",
   "metadata": {},
   "source": [
    "## Run this cell with your own data instead of the example data by entering the filepath of a desired file. If you want to use the example data, skip it."
   ]
  },
  {
   "cell_type": "code",
   "execution_count": null,
   "metadata": {},
   "outputs": [],
   "source": [
    "#Enter variable here\"\n",
    "filepath='user/your_folder/your_file.csv'\n",
    "\n",
    "\n",
    "df= pd.read_csv(filepath)"
   ]
  },
  {
   "cell_type": "markdown",
   "metadata": {},
   "source": [
    "## In this cell specifiy the column, i.e., d50, what unit (phi or mm) you want to convert to. In this example we will convert the d50 column from the SandSnap dataset from mm to phi"
   ]
  },
  {
   "cell_type": "code",
   "execution_count": null,
   "metadata": {},
   "outputs": [],
   "source": [
    "#enter name of column to be converted\n",
    "column='d50'\n",
    "\n",
    "\n",
    "##convert to? (enter 'phi' or 'mm')\n",
    "convert_to= 'phi'\n"
   ]
  },
  {
   "cell_type": "markdown",
   "metadata": {},
   "source": [
    "## This next cell runs the conversion"
   ]
  },
  {
   "cell_type": "code",
   "execution_count": null,
   "metadata": {
    "scrolled": true
   },
   "outputs": [],
   "source": [
    "df_column=df[column]\n",
    "\n",
    "#conversion to phi\n",
    "if convert_to == 'phi':\n",
    "    df[column]=-1*(np.log2(df_column))\n",
    "    \n",
    "#conversion to mm\n",
    "if convert_to=='mm':\n",
    "    df[column]=10**(-df_column/3.322)"
   ]
  },
  {
   "cell_type": "markdown",
   "metadata": {},
   "source": [
    "## Run this cell if you want to export data back to csv. In the \"out_path\" variable specify where you want the file to be saved and how you want it to be named.\n"
   ]
  },
  {
   "cell_type": "code",
   "execution_count": null,
   "metadata": {},
   "outputs": [],
   "source": [
    "#enter desired outpath\n",
    "out_path='user/your_folder/your_converted_file.csv'\n",
    "\n",
    "pd.write_csv(df, outpath)"
   ]
  }
 ],
 "metadata": {
  "kernelspec": {
   "display_name": "Python 3",
   "language": "python",
   "name": "python3"
  },
  "language_info": {
   "codemirror_mode": {
    "name": "ipython",
    "version": 3
   },
   "file_extension": ".py",
   "mimetype": "text/x-python",
   "name": "python",
   "nbconvert_exporter": "python",
   "pygments_lexer": "ipython3",
   "version": "3.8.2"
  }
 },
 "nbformat": 4,
 "nbformat_minor": 5
}
