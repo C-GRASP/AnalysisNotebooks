{
 "cells": [
  {
   "cell_type": "code",
   "execution_count": null,
   "metadata": {
    "scrolled": true
   },
   "outputs": [],
   "source": [
    "import pandas as pd\n",
    "import numpy as np\n",
    "\n",
    "#enter inpath for csv\n",
    "in_path='.../data.csv'\n",
    "\n",
    "\n",
    "#enter name of column to be converted\n",
    "column=''\n",
    "\n",
    "\n",
    "##convert to? (enter 'phi' or 'mm')\n",
    "convert_to=\n",
    "\n",
    "\n",
    "\n",
    "\n",
    "\n",
    "\n",
    "\n",
    "#\n",
    "df=pd.read_csv(in_path)\n",
    "df_column=df[column]\n",
    "\n",
    "#conversion to phi\n",
    "if convert_to == 'phi':\n",
    "    df[column]=-1*(np.log2(df_column))\n",
    "    \n",
    "#conversion to mm\n",
    "if convert_to=='mm':\n",
    "    df[column]=10**(-df_column/3.322)"
   ]
  },
  {
   "cell_type": "code",
   "execution_count": null,
   "metadata": {},
   "outputs": [],
   "source": [
    "#Run this cell if you want to export data back to csv\n",
    "#enter desired outpath\n",
    "out_path=''\n",
    "\n",
    "pd.write_csv(df, outpath)"
   ]
  }
 ],
 "metadata": {
  "kernelspec": {
   "display_name": "Python 3",
   "language": "python",
   "name": "python3"
  },
  "language_info": {
   "codemirror_mode": {
    "name": "ipython",
    "version": 3
   },
   "file_extension": ".py",
   "mimetype": "text/x-python",
   "name": "python",
   "nbconvert_exporter": "python",
   "pygments_lexer": "ipython3",
   "version": "3.8.3"
  }
 },
 "nbformat": 4,
 "nbformat_minor": 5
}
