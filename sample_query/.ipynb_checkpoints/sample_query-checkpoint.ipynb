{
 "cells": [
  {
   "cell_type": "markdown",
   "id": "a653fe3c",
   "metadata": {},
   "source": [
    "<table style=\"font-size: 1em; padding: 0; margin: 0;\">\n",
    "\n",
    "<tr style=\"vertical-align: top; padding: 0; margin: 0;background-color: #ffffff\">\n",
    "        <td style=\"vertical-align: top; padding: 0; margin: 0; padding-right: 15px;\">\n",
    "    <p style=\"background: #182AEB; color:#ffffff; text-align:justify; padding: 10px 25px;\">\n",
    "        <strong style=\"font-size: 1.0em;\"><span style=\"font-size: 1.2em;\"><span style=\"color: #ffffff;\">The Coastal Grain Size Portal (C-GRASP) dataset <br/><em>Will Speiser, Daniel Buscombe, Evan Goldstein</em></strong><br/><br/>\n",
    "        <strong>> Query Samples </strong><br/>\n",
    "    </p>                       \n",
    "        \n",
    "\n",
    "<p style=\"border: 1px solid #ff5733; border-left: 15px solid #ff5733; padding: 10px; text-align:justify;\">\n",
    "    <strong style=\"color: #ff5733\">The purpose of this notebook</strong>  \n",
    "    <br/><font color=grey> This notebook will output a csv file containing all of the data from a chosen C-GRASP dataset that the user has queried spatially and temporally to best suit their needs. It will also display statistics such as the number of samples queried and histograms of the dates they cover.<font><br/>\n",
    "    <br/><font color=grey> This notebook provides simple code to interactively query C-GRASP data.<font><br/>    \n",
    "    <br/><font color=grey> To do so, the user selects their dataset of choice and the year range of data in which they are interested in.  <font><br/>\n",
    "    <br/><font color=grey> Then, the notebook creates an interactive map showing the selected dataset using iPyleaflet. The user then draws a polygon on this map to select which samples they are interested in collecting  <font><br/>\n",
    "    <br/><font color=grey> Then the notebook converts each CUDEM cell value to a csv containing the CUDEM file's depth value and location for each cell. After, these csv's are combined into one dataframe<font><br/>\n",
    "    <br/><font color=grey> After the CUDEM data conversion, the chosen C-GRASP dataset is downloaded and converted to a dataframe.<font><br/>\n",
    "        <br/><font color=grey> Finally the two datasets are converted to GeoPandasData frames and are joined by proximity, assigning each downloaded CGRASP sample a depth from the nearest CUDEM value. This data is then downloaded as a csv to the user's system. <font><br/>\n",
    "    </p>"
   ]
  },
  {
   "cell_type": "code",
   "execution_count": 1,
   "id": "308cd713",
   "metadata": {},
   "outputs": [],
   "source": [
    "import pandas as pd\n",
    "import geopandas as gpd\n",
    "import shapefile\n",
    "import json \n",
    "from ipyleaflet import (\n",
    "    Map,\n",
    "    Marker,\n",
    "    TileLayer, ImageOverlay,\n",
    "    Polyline, Polygon, Rectangle, Circle, CircleMarker,\n",
    "    GeoJSON,\n",
    "    DrawControl, basemaps, basemap_to_tiles, GeoData\n",
    ")\n",
    "\n",
    "import pyproj\n",
    "from shapely.ops import transform\n",
    "from shapely.geometry import Polygon\n",
    "import ipywidgets\n",
    "import numpy as np\n",
    "import urllib.request\n"
   ]
  },
  {
   "cell_type": "markdown",
   "id": "eae34993",
   "metadata": {},
   "source": [
    "## In this cell, choose your dataset of interest and then enter in the year range that you want to query. Note: If you are only interested in one year, enter that year as both your start and end date"
   ]
  },
  {
   "cell_type": "code",
   "execution_count": 2,
   "id": "7da2d28c",
   "metadata": {
    "scrolled": false
   },
   "outputs": [
    {
     "data": {
      "application/vnd.jupyter.widget-view+json": {
       "model_id": "265445f0292d419fbf840c37b5330a79",
       "version_major": 2,
       "version_minor": 0
      },
      "text/plain": [
       "Select(description='Dataset:', options=('Entire Coastal Dataset', 'Estimated Onshore Dataset', 'Verified Onsho…"
      ]
     },
     "metadata": {},
     "output_type": "display_data"
    },
    {
     "name": "stdout",
     "output_type": "stream",
     "text": [
      "Enter Year Range of Interest Interest Below:\n"
     ]
    },
    {
     "data": {
      "application/vnd.jupyter.widget-view+json": {
       "model_id": "1fabbc7f8db144b79d0b0dabc282b8d6",
       "version_major": 2,
       "version_minor": 0
      },
      "text/plain": [
       "Text(value='yyyy', description='Start Year:', placeholder='Type something')"
      ]
     },
     "metadata": {},
     "output_type": "display_data"
    },
    {
     "data": {
      "application/vnd.jupyter.widget-view+json": {
       "model_id": "8e932016412a4cd692860545feed435f",
       "version_major": 2,
       "version_minor": 0
      },
      "text/plain": [
       "Text(value='yyyy', description='End Year:', placeholder='Type something')"
      ]
     },
     "metadata": {},
     "output_type": "display_data"
    }
   ],
   "source": [
    "\n",
    "\n",
    "#Dataset collection widget\n",
    "zen=ipywidgets.Select(\n",
    "    options=['Entire Coastal Dataset', 'Estimated Onshore Dataset', 'Verified Onshore Dataset'],\n",
    "    value='Entire Coastal Dataset',\n",
    "    # rows=10,\n",
    "    description='Dataset:',\n",
    "    disabled=False\n",
    ")\n",
    "\n",
    "display(zen)\n",
    "\n",
    "\n",
    "print('Enter Year Range of Interest Interest Below:')\n",
    "\n",
    "#Lower bound year text enter widget\n",
    "\n",
    "y0=ipywidgets.Text(\n",
    "    value='yyyy',\n",
    "    placeholder='Type something',\n",
    "    description='Start Year:',\n",
    "    disabled=False\n",
    ")\n",
    "\n",
    "display(y0)\n",
    "\n",
    "#Upper bound year text enter widget\n",
    "y1=ipywidgets.Text(\n",
    "    value='yyyy',\n",
    "    placeholder='Type something',\n",
    "    description='End Year:',\n",
    "    disabled=False\n",
    ")\n",
    "\n",
    "display(y1)\n",
    "\n"
   ]
  },
  {
   "cell_type": "markdown",
   "id": "672840db",
   "metadata": {},
   "source": [
    "### Download your data!"
   ]
  },
  {
   "cell_type": "code",
   "execution_count": 3,
   "id": "ca6dd4c7",
   "metadata": {
    "scrolled": true
   },
   "outputs": [
    {
     "name": "stdout",
     "output_type": "stream",
     "text": [
      "Retrieving Data, Please Wait\n",
      "Data Retrieved! Now Subsetting to Year\n",
      "\n",
      "Done. 269 samples available from dates the following dates:\n",
      "\n"
     ]
    },
    {
     "data": {
      "image/png": "[encoded data removed]",
      "text/plain": [
       "<Figure size 1440x216 with 1 Axes>"
      ]
     },
     "metadata": {
      "needs_background": "light"
     },
     "output_type": "display_data"
    }
   ],
   "source": [
    "if float(y1.value)-float(y0.value)<0: #Making sure your date range is appropriate\n",
    "    print('Error! End Date Proceeds Start Date!')\n",
    "\n",
    "#Call the chosen dataset from Zenodo\n",
    "else:\n",
    "    url = 'https://zenodo.org/record/6099266/files/' \n",
    "    if zen.value=='Entire Coastal Dataset':\n",
    "        filename='dataset_10kmcoast.csv'\n",
    "    if zen.value=='Estimated Onshore Dataset':\n",
    "        filename='Data_EstimatedOnshore.csv'\n",
    "    if zen.value=='Verified Onshore Dataset':\n",
    "        filename='Data_VerifiedOnshore.csv'\n",
    "\n",
    "    url=(url+filename)\n",
    "    print('Retrieving Data, Please Wait')\n",
    "    #retrieve data\n",
    "    df=pd.read_csv(url)\n",
    "    print('Data Retrieved! Now Subsetting to Year')\n",
    "    df['Date'] = pd.to_datetime(df['Date']) #Convert sample date to pandas datetime object\n",
    "    df['year'] = df['Date'].dt.year #Extract year from datetime object\n",
    "    df=df.loc[df.year>=float(y0.value), :]     #subset by lower year\n",
    "    df=df.loc[df.year<=float(y1.value), :]  #subset by upper year\n",
    "\n",
    "    df = pd.DataFrame(df.drop(columns='year'))\n",
    "\n",
    "    if float(y1.value)-float(y0.value)>0:\n",
    "        print()\n",
    "        print('Done. '+str(len(df))+' samples available from dates the following dates:')\n",
    "        df=df[df['Date'].astype(\"datetime64\").dt.year<2060] #remove any data with typos from source data\n",
    "        #print statistics\n",
    "        df['Mean'].groupby(df['Date'].astype(\"datetime64\").dt.year).count().plot(kind=\"bar\",figsize=(20,3))\n",
    "        print()\n",
    "    else:\n",
    "        print('Done. '+str(len(df))+' samples available')\n"
   ]
  },
  {
   "cell_type": "markdown",
   "id": "05cde16e",
   "metadata": {},
   "source": [
    "Turn the data into a GeoDataFrame so you can visualize samples on the interactive map"
   ]
  },
  {
   "cell_type": "code",
   "execution_count": 4,
   "id": "23e352a6",
   "metadata": {},
   "outputs": [],
   "source": [
    "\n",
    "#make map with geodataframe\n",
    "gdf = gpd.GeoDataFrame(df, geometry=gpd.points_from_xy(df.longitude, df.latitude)) #convert dataframe to geodataframe\n",
    "gdf['Date'] = gdf['Date'].astype(str)\n",
    "\n",
    "gdf= GeoData(geo_dataframe = gdf)\n",
    "watercolor = basemap_to_tiles(basemaps.Esri.WorldImagery, crs='espg:4326')"
   ]
  },
  {
   "cell_type": "markdown",
   "id": "c5cb5b11",
   "metadata": {},
   "source": [
    "## Use iPyLeaflet to query your samples\n",
    "\n",
    "#### Once you run the cell below, an interactive map will appear\n",
    "\n",
    "\n",
    "\n",
    "\n",
    "In this next cell, an ipyleafletmap will appear where you spatially query your desired data (the points are all available data from your temporally queried dataset). \n",
    "\n",
    "\n",
    "* To do so, navigate around the map and then click the square button to call the rectangle selection tool. Click and drag the square over your samples of interest.\n",
    "\n",
    "\n",
    "See the Readme.md file for more information on how to use this map.\n"
   ]
  },
  {
   "cell_type": "code",
   "execution_count": 5,
   "id": "3f35f685",
   "metadata": {
    "scrolled": true
   },
   "outputs": [
    {
     "data": {
      "application/vnd.jupyter.widget-view+json": {
       "model_id": "6b2474e64f6c4dfe8c3f30edfb013169",
       "version_major": 2,
       "version_minor": 0
      },
      "text/plain": [
       "Map(center=[35, -75], controls=(ZoomControl(options=['position', 'zoom_in_text', 'zoom_in_title', 'zoom_out_te…"
      ]
     },
     "metadata": {},
     "output_type": "display_data"
    },
    {
     "name": "stdout",
     "output_type": "stream",
     "text": [
      "created\n",
      "{'type': 'Feature', 'properties': {'style': {'stroke': True, 'color': '#0000FF', 'weight': 4, 'opacity': 0.5, 'fill': True, 'fillColor': None, 'fillOpacity': 0.2, 'clickable': True}}, 'geometry': {'type': 'Polygon', 'coordinates': [[[-91.36559, 28.556862], [-91.36559, 32.714588], [-85.211972, 32.714588], [-85.211972, 28.556862], [-91.36559, 28.556862]]]}}\n"
     ]
    }
   ],
   "source": [
    "\n",
    "m = Map(layers=(watercolor, ), center=(35,-75 ), zoom=4)\n",
    "\n",
    "m.add_layer(gdf)\n",
    "\n",
    "\n",
    "#Add draw tool\n",
    "\n",
    "dc = DrawControl(marker={'shapeOptions': {'color': '#0000FF'}},\n",
    "                 rectangle={'shapeOptions': {'color': '#0000FF'}},\n",
    "                 circle={'shapeOptions': {'color': '#0000FF'}},\n",
    "                 circlemarker={},\n",
    "                 )\n",
    "def handle_draw(target, action, geo_json):\n",
    "    print(action)\n",
    "    print(geo_json)\n",
    "\n",
    "dc.on_draw(handle_draw)\n",
    "m.add_control(dc)\n",
    "    \n",
    "\n",
    "    \n",
    "m"
   ]
  },
  {
   "cell_type": "markdown",
   "id": "e668ec6e",
   "metadata": {},
   "source": [
    "This cell extracts the data from your above query"
   ]
  },
  {
   "cell_type": "code",
   "execution_count": 7,
   "id": "814df2e8",
   "metadata": {},
   "outputs": [],
   "source": [
    "#This extracts the polygon drawn in the above map\n",
    "bounds= (dc.last_draw).get(\"geometry\").get(\"coordinates\")[0] #get geometry of drawn polygon\n",
    "bounds_poly=Polygon(bounds) #make geometry into a spatial polygon\n",
    "bounds_gpd=gpd.GeoDataFrame(geometry=[bounds_poly]) # Turn the polygon into a geopandas dataframe\n",
    "polygon=bounds_gpd.set_crs('EPSG:4326') #set the crs to the same as the sample geodataframe"
   ]
  },
  {
   "cell_type": "markdown",
   "id": "0fdf6ac4",
   "metadata": {},
   "source": [
    "#This then subsets your data set"
   ]
  },
  {
   "cell_type": "code",
   "execution_count": 8,
   "id": "8b2c08b8",
   "metadata": {},
   "outputs": [],
   "source": [
    "df=gdf = gpd.GeoDataFrame(df, geometry=gpd.points_from_xy(df.longitude, df.latitude))\n",
    "df=df.set_crs('EPSG:4326')\n",
    "df=gpd.clip(df, polygon)\n",
    "df=pd.DataFrame(df)"
   ]
  },
  {
   "cell_type": "markdown",
   "id": "abe8a57e",
   "metadata": {},
   "source": [
    "Lets take a look at some of the statistics of your queried data"
   ]
  },
  {
   "cell_type": "code",
   "execution_count": 9,
   "id": "e501f507",
   "metadata": {},
   "outputs": [
    {
     "name": "stdout",
     "output_type": "stream",
     "text": [
      "32 samples downloaded from dates:\n"
     ]
    },
    {
     "data": {
      "image/png": "[encoded data removed]",
      "text/plain": [
       "<Figure size 1440x216 with 1 Axes>"
      ]
     },
     "metadata": {
      "needs_background": "light"
     },
     "output_type": "display_data"
    }
   ],
   "source": [
    "#Print date statistics if more than one year of data\n",
    "if float(y1.value)-float(y0.value)>0:\n",
    "    print(str(len(df))+' samples downloaded from dates:')\n",
    "    df['Mean'].groupby(df['Date'].astype(\"datetime64\").dt.year).count().plot(kind=\"bar\",figsize=(20,3))\n",
    "#Print length statistics if one year of data\n",
    "else:\n",
    "    print(str(len(df)) +'samples downloaded')\n",
    "\n"
   ]
  },
  {
   "cell_type": "markdown",
   "id": "9845c904",
   "metadata": {},
   "source": [
    "## Define the output folder path and file name"
   ]
  },
  {
   "cell_type": "code",
   "execution_count": null,
   "id": "25a042a4",
   "metadata": {},
   "outputs": [],
   "source": [
    "out_path='../data_queried.csv'"
   ]
  },
  {
   "cell_type": "markdown",
   "id": "46e86b99",
   "metadata": {},
   "source": [
    "And finally, download the data"
   ]
  },
  {
   "cell_type": "code",
   "execution_count": null,
   "id": "c1d59c3f",
   "metadata": {
    "scrolled": true
   },
   "outputs": [],
   "source": [
    "df.to_csv('../data.csv')\n",
    "\n",
    "print('Data downloaded!')"
   ]
  }
 ],
 "metadata": {
  "kernelspec": {
   "display_name": "Python 3 (ipykernel)",
   "language": "python",
   "name": "python3"
  },
  "language_info": {
   "codemirror_mode": {
    "name": "ipython",
    "version": 3
   },
   "file_extension": ".py",
   "mimetype": "text/x-python",
   "name": "python",
   "nbconvert_exporter": "python",
   "pygments_lexer": "ipython3",
   "version": "3.10.2"
  }
 },
 "nbformat": 4,
 "nbformat_minor": 5
}
