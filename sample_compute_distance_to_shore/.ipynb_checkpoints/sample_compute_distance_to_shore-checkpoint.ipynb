{
 "cells": [
  {
   "cell_type": "markdown",
   "id": "538c766c",
   "metadata": {},
   "source": [
    "<table style=\"font-size: 1em; padding: 0; margin: 0;\">\n",
    "\n",
    "<tr style=\"vertical-align: top; padding: 0; margin: 0;background-color: #ffffff\">\n",
    "        <td style=\"vertical-align: top; padding: 0; margin: 0; padding-right: 15px;\">\n",
    "    <p style=\"background: #182AEB; color:#ffffff; text-align:justify; padding: 10px 25px;\">\n",
    "        <strong style=\"font-size: 1.0em;\"><span style=\"font-size: 1.2em;\"><span style=\"color: #ffffff;\">The Coastal Grain Size Portal (C-GRASP) dataset <br/><em>Will Speiser, Daniel Buscombe, Evan Goldstein</em></strong><br/><br/>\n",
    "        <strong>> Compute Sample Distance from Shore </strong><br/>\n",
    "    </p>                       \n",
    "        \n",
    "<p style=\"border: 1px solid #ff5733; border-left: 15px solid #ff5733; padding: 10px; text-align:justify;\">\n",
    "    <strong style=\"color: #ff5733\">The purpose of this notebook</strong>  \n",
    "    <br/><font color=grey> This notebook will output a dataframe containing a new field with an estimated of the distance between each sample from a chosen C-GRASP dataset and the coastline. As C-Grasp file sizes vary completion of this task will vary with internet connectivity and computer processing power.<font><br/>\n",
    "    <br/><font color=grey> This notebook provides simple code that calculates the distance between each sample from a chosen CGRASP dataset and the NaturalEarth 1:50m physical coastline polyline.<font><br/>    \n",
    "    <br/><font color=grey> To do so, a user can choose a dataset of choice. This dataset is then called to your system and then converted into a GeoDataFrame<font><br/>\n",
    "    <br/><font color=grey> The notebook then uses Cartopy to call the NaturalEarth 1:10m coastline polygon<font><br/>\n",
    "     <br/><font color=grey> This coastline is then converted to a GeoDataFrame object and is cropped to an extent of the Eastern United States<font><br/>  \n",
    "    <br/><font color=grey> This coastline is then converted to a GeoDataFrame object and is cropped to an extent of the Eastern United States<font><br/> \n",
    "    <br/><font color=grey> Finally, using the GeoPandas distance function, the distance between nearest features in both GeoDataFrames (the chosen samples and the coastline polylines) is calculated and added to a new \"Distance\" field for each sample<font><br/>  \n",
    "    </p>\n",
    "    "
   ]
  },
  {
   "cell_type": "code",
   "execution_count": 1,
   "id": "187c79d5",
   "metadata": {},
   "outputs": [],
   "source": [
    "import pandas as pd\n",
    "import geopandas as gpd\n",
    "import shapefile\n",
    "import json \n",
    "import ipywidgets\n",
    "from cartopy.feature import NaturalEarthFeature\n",
    "import cartopy.io.shapereader as shpreader\n",
    "import numpy as np\n",
    "import matplotlib.pyplot as plt"
   ]
  },
  {
   "cell_type": "markdown",
   "id": "41dd3a0e",
   "metadata": {},
   "source": [
    "#### Select a dataset"
   ]
  },
  {
   "cell_type": "code",
   "execution_count": 2,
   "id": "8931921a",
   "metadata": {},
   "outputs": [
    {
     "data": {
      "application/vnd.jupyter.widget-view+json": {
       "model_id": "ac33a474f4714f7e8933835125ac9bdd",
       "version_major": 2,
       "version_minor": 0
      },
      "text/plain": [
       "Select(description='Dataset:', options=('Entire Dataset', 'Estimated Onshore Data', 'Verified Onshore Data', '…"
      ]
     },
     "metadata": {},
     "output_type": "display_data"
    }
   ],
   "source": [
    "#Dataset collection widget\n",
    "zen=ipywidgets.Select(\n",
    "    options=['Entire Dataset', 'Estimated Onshore Data', 'Verified Onshore Data', 'Verified Onshore Post 2012 Data'],\n",
    "    value='Entire Dataset',\n",
    "    # rows=10,\n",
    "    description='Dataset:',\n",
    "    disabled=False\n",
    ")\n",
    "\n",
    "display(zen)\n"
   ]
  },
  {
   "cell_type": "markdown",
   "id": "ba723514",
   "metadata": {},
   "source": [
    "#### Download the dataset"
   ]
  },
  {
   "cell_type": "code",
   "execution_count": 3,
   "id": "58e1fb66",
   "metadata": {},
   "outputs": [
    {
     "name": "stdout",
     "output_type": "stream",
     "text": [
      "Downloading https://zenodo.org/record/6099266/files/Data_Post2012_VerifiedOnshore.csv\n"
     ]
    }
   ],
   "source": [
    "url = 'https://zenodo.org/record/6099266/files/' \n",
    "if zen.value=='Entire Dataset':\n",
    "    filename='dataset_10kmcoast.csv'\n",
    "if zen.value=='Estimated Onshore Data':\n",
    "    filename='Data_EstimatedOnshore.csv'\n",
    "if zen.value=='Verified Onshore Data':\n",
    "    filename='Data_VerifiedOnshore.csv'\n",
    "if zen.value=='Verified Onshore Post 2012 Data':\n",
    "    filename='Data_Post2012_VerifiedOnshore.csv'\n",
    "print(\"Downloading {}\".format(url+filename))   \n"
   ]
  },
  {
   "cell_type": "markdown",
   "id": "0edcdea4",
   "metadata": {},
   "source": [
    "The next cell will download the CGRASP dataset and read it in as a pandas dataframe with variable name `df`"
   ]
  },
  {
   "cell_type": "code",
   "execution_count": 4,
   "id": "dd1a1838",
   "metadata": {},
   "outputs": [
    {
     "name": "stdout",
     "output_type": "stream",
     "text": [
      "Retrieving Data, Please Wait\n",
      "Sediment Data Retrieved!\n"
     ]
    }
   ],
   "source": [
    "url=(url+filename)\n",
    "print('Retrieving Data, Please Wait')\n",
    "#retrieve data\n",
    "df=pd.read_csv(url)\n",
    "print('Sediment Data Retrieved!') \n"
   ]
  },
  {
   "cell_type": "markdown",
   "id": "1a1029db",
   "metadata": {},
   "source": [
    "Let's take a quick look at the top of the file"
   ]
  },
  {
   "cell_type": "code",
   "execution_count": 5,
   "id": "63cb1b1c",
   "metadata": {},
   "outputs": [
    {
     "data": {
      "text/html": [
       "<div>\n",
       "<style scoped>\n",
       "    .dataframe tbody tr th:only-of-type {\n",
       "        vertical-align: middle;\n",
       "    }\n",
       "\n",
       "    .dataframe tbody tr th {\n",
       "        vertical-align: top;\n",
       "    }\n",
       "\n",
       "    .dataframe thead th {\n",
       "        text-align: right;\n",
       "    }\n",
       "</style>\n",
       "<table border=\"1\" class=\"dataframe\">\n",
       "  <thead>\n",
       "    <tr style=\"text-align: right;\">\n",
       "      <th></th>\n",
       "      <th>ID</th>\n",
       "      <th>Sample_ID</th>\n",
       "      <th>Sample_Type_Code</th>\n",
       "      <th>Project</th>\n",
       "      <th>dataset</th>\n",
       "      <th>Date</th>\n",
       "      <th>Location_Type</th>\n",
       "      <th>latitude</th>\n",
       "      <th>longitude</th>\n",
       "      <th>Contact</th>\n",
       "      <th>...</th>\n",
       "      <th>d16</th>\n",
       "      <th>d25</th>\n",
       "      <th>d30</th>\n",
       "      <th>d50</th>\n",
       "      <th>d65</th>\n",
       "      <th>d75</th>\n",
       "      <th>d84</th>\n",
       "      <th>d90</th>\n",
       "      <th>d95</th>\n",
       "      <th>Notes</th>\n",
       "    </tr>\n",
       "  </thead>\n",
       "  <tbody>\n",
       "    <tr>\n",
       "      <th>0</th>\n",
       "      <td>876</td>\n",
       "      <td>SPIbeach5</td>\n",
       "      <td>1</td>\n",
       "      <td>SandSnap, image taken by:</td>\n",
       "      <td>sandsnap</td>\n",
       "      <td>2021-11-08</td>\n",
       "      <td>Beach?Y</td>\n",
       "      <td>26.12871</td>\n",
       "      <td>-97.16718</td>\n",
       "      <td>Sandsnap, USACE</td>\n",
       "      <td>...</td>\n",
       "      <td>0.565657</td>\n",
       "      <td>0.624976</td>\n",
       "      <td>0.657068</td>\n",
       "      <td>0.785439</td>\n",
       "      <td>0.889342</td>\n",
       "      <td>1.016927</td>\n",
       "      <td>1.131754</td>\n",
       "      <td>1.276942</td>\n",
       "      <td>1.397932</td>\n",
       "      <td>NaN</td>\n",
       "    </tr>\n",
       "    <tr>\n",
       "      <th>1</th>\n",
       "      <td>878</td>\n",
       "      <td>SPI6</td>\n",
       "      <td>1</td>\n",
       "      <td>SandSnap, image taken by:</td>\n",
       "      <td>sandsnap</td>\n",
       "      <td>2021-11-08</td>\n",
       "      <td>Beach?Y</td>\n",
       "      <td>26.12899</td>\n",
       "      <td>-97.16713</td>\n",
       "      <td>Sandsnap, USACE</td>\n",
       "      <td>...</td>\n",
       "      <td>0.565657</td>\n",
       "      <td>0.624976</td>\n",
       "      <td>0.657068</td>\n",
       "      <td>0.785439</td>\n",
       "      <td>0.889342</td>\n",
       "      <td>1.016927</td>\n",
       "      <td>1.131754</td>\n",
       "      <td>1.276942</td>\n",
       "      <td>1.397932</td>\n",
       "      <td>NaN</td>\n",
       "    </tr>\n",
       "    <tr>\n",
       "      <th>2</th>\n",
       "      <td>877</td>\n",
       "      <td>SPI6</td>\n",
       "      <td>1</td>\n",
       "      <td>SandSnap, image taken by:</td>\n",
       "      <td>sandsnap</td>\n",
       "      <td>2021-11-08</td>\n",
       "      <td>Beach?Y</td>\n",
       "      <td>26.12899</td>\n",
       "      <td>-97.16713</td>\n",
       "      <td>Sandsnap, USACE</td>\n",
       "      <td>...</td>\n",
       "      <td>0.565657</td>\n",
       "      <td>0.624976</td>\n",
       "      <td>0.657068</td>\n",
       "      <td>0.785439</td>\n",
       "      <td>0.889342</td>\n",
       "      <td>1.016927</td>\n",
       "      <td>1.131754</td>\n",
       "      <td>1.276942</td>\n",
       "      <td>1.397932</td>\n",
       "      <td>NaN</td>\n",
       "    </tr>\n",
       "    <tr>\n",
       "      <th>3</th>\n",
       "      <td>1429</td>\n",
       "      <td>SPIbeach4</td>\n",
       "      <td>1</td>\n",
       "      <td>SandSnap, image taken by:</td>\n",
       "      <td>sandsnap</td>\n",
       "      <td>2021-11-08</td>\n",
       "      <td>Beach?Y</td>\n",
       "      <td>26.16883</td>\n",
       "      <td>-97.17248</td>\n",
       "      <td>Sandsnap, USACE</td>\n",
       "      <td>...</td>\n",
       "      <td>0.565657</td>\n",
       "      <td>0.624976</td>\n",
       "      <td>0.657068</td>\n",
       "      <td>0.785439</td>\n",
       "      <td>0.889342</td>\n",
       "      <td>1.016927</td>\n",
       "      <td>1.131754</td>\n",
       "      <td>1.276942</td>\n",
       "      <td>1.397932</td>\n",
       "      <td>NaN</td>\n",
       "    </tr>\n",
       "    <tr>\n",
       "      <th>4</th>\n",
       "      <td>1430</td>\n",
       "      <td>SPIbeach3</td>\n",
       "      <td>1</td>\n",
       "      <td>SandSnap, image taken by:</td>\n",
       "      <td>sandsnap</td>\n",
       "      <td>2021-11-08</td>\n",
       "      <td>Beach?Y</td>\n",
       "      <td>26.16885</td>\n",
       "      <td>-97.17284</td>\n",
       "      <td>Sandsnap, USACE</td>\n",
       "      <td>...</td>\n",
       "      <td>0.565657</td>\n",
       "      <td>0.624976</td>\n",
       "      <td>0.657068</td>\n",
       "      <td>0.785439</td>\n",
       "      <td>0.889342</td>\n",
       "      <td>1.016927</td>\n",
       "      <td>1.131754</td>\n",
       "      <td>1.276942</td>\n",
       "      <td>1.397932</td>\n",
       "      <td>NaN</td>\n",
       "    </tr>\n",
       "  </tbody>\n",
       "</table>\n",
       "<p>5 rows × 34 columns</p>\n",
       "</div>"
      ],
      "text/plain": [
       "     ID  Sample_ID  Sample_Type_Code                     Project   dataset  \\\n",
       "0   876  SPIbeach5                 1  SandSnap, image taken by:   sandsnap   \n",
       "1   878       SPI6                 1  SandSnap, image taken by:   sandsnap   \n",
       "2   877       SPI6                 1  SandSnap, image taken by:   sandsnap   \n",
       "3  1429  SPIbeach4                 1  SandSnap, image taken by:   sandsnap   \n",
       "4  1430  SPIbeach3                 1  SandSnap, image taken by:   sandsnap   \n",
       "\n",
       "         Date Location_Type  latitude  longitude          Contact  ...  \\\n",
       "0  2021-11-08       Beach?Y  26.12871  -97.16718  Sandsnap, USACE  ...   \n",
       "1  2021-11-08       Beach?Y  26.12899  -97.16713  Sandsnap, USACE  ...   \n",
       "2  2021-11-08       Beach?Y  26.12899  -97.16713  Sandsnap, USACE  ...   \n",
       "3  2021-11-08       Beach?Y  26.16883  -97.17248  Sandsnap, USACE  ...   \n",
       "4  2021-11-08       Beach?Y  26.16885  -97.17284  Sandsnap, USACE  ...   \n",
       "\n",
       "        d16       d25       d30       d50       d65       d75       d84  \\\n",
       "0  0.565657  0.624976  0.657068  0.785439  0.889342  1.016927  1.131754   \n",
       "1  0.565657  0.624976  0.657068  0.785439  0.889342  1.016927  1.131754   \n",
       "2  0.565657  0.624976  0.657068  0.785439  0.889342  1.016927  1.131754   \n",
       "3  0.565657  0.624976  0.657068  0.785439  0.889342  1.016927  1.131754   \n",
       "4  0.565657  0.624976  0.657068  0.785439  0.889342  1.016927  1.131754   \n",
       "\n",
       "        d90       d95 Notes  \n",
       "0  1.276942  1.397932   NaN  \n",
       "1  1.276942  1.397932   NaN  \n",
       "2  1.276942  1.397932   NaN  \n",
       "3  1.276942  1.397932   NaN  \n",
       "4  1.276942  1.397932   NaN  \n",
       "\n",
       "[5 rows x 34 columns]"
      ]
     },
     "execution_count": 5,
     "metadata": {},
     "output_type": "execute_result"
    }
   ],
   "source": [
    "df.head()"
   ]
  },
  {
   "cell_type": "markdown",
   "id": "19ad720a",
   "metadata": {},
   "source": [
    "Now we'll convert that data frame to a GeoDataFrame, that way we can do spatial calculations on it."
   ]
  },
  {
   "cell_type": "code",
   "execution_count": 6,
   "id": "a3365166",
   "metadata": {},
   "outputs": [
    {
     "name": "stdout",
     "output_type": "stream",
     "text": [
      "Sediment Data Converted to a GeoDataFrame, Next cell retrieves Natural Earth Data\n"
     ]
    }
   ],
   "source": [
    "gdf=gpd.GeoDataFrame(df,geometry=gpd.points_from_xy(df.longitude, df.latitude))\n",
    "gdf=gdf.set_crs(epsg=4326)\n",
    "print('Sediment Data Converted to a GeoDataFrame, Next cell retrieves Natural Earth Data')\n"
   ]
  },
  {
   "cell_type": "markdown",
   "id": "bc4b4d64",
   "metadata": {},
   "source": [
    "Now let's call that NaturalEarth Coastline polyline:"
   ]
  },
  {
   "cell_type": "code",
   "execution_count": 7,
   "id": "6fe9dbd9",
   "metadata": {},
   "outputs": [
    {
     "name": "stdout",
     "output_type": "stream",
     "text": [
      "Natural Earth Data retrieved and converted to a GeoDataFrame\n"
     ]
    }
   ],
   "source": [
    "coast = shpreader.natural_earth(resolution='10m',category='physical', name='coastline')\n",
    "coast=gpd.read_file(coast)\n",
    "print('Natural Earth Data retrieved and converted to a GeoDataFrame')"
   ]
  },
  {
   "cell_type": "markdown",
   "id": "b8e7dcf0",
   "metadata": {},
   "source": [
    "This next cell creates a json to define bounds for the East Coast US (C-Grasp's area of study)"
   ]
  },
  {
   "cell_type": "code",
   "execution_count": 8,
   "id": "de5fde33",
   "metadata": {},
   "outputs": [],
   "source": [
    "#Define Bounds for the East Coast to Clip US Coastal Poly\n",
    "eastcoast=json.loads((\"\"\"\n",
    "     {\"type\": \"FeatureCollection\", \"features\": [{\n",
    "      \"type\": \"Feature\",\n",
    "      \"properties\": {},\n",
    "      \"geometry\": {\n",
    "        \"type\": \"Polygon\",\n",
    "        \"coordinates\": [\n",
    "          [\n",
    "            [\n",
    "              -97.294921875,\n",
    "              24.766784522874453\n",
    "            ],\n",
    "            [\n",
    "              -94.130859375,\n",
    "              22.51255695405145\n",
    "            ],\n",
    "            [\n",
    "              -86.30859375,\n",
    "              21.94304553343818\n",
    "            ],\n",
    "            [\n",
    "              -80.244140625,\n",
    "              16.130262012034756\n",
    "            ],\n",
    "            [\n",
    "              -65.0390625,\n",
    "              15.792253570362446\n",
    "            ],\n",
    "            [\n",
    "              -66.610107421875,\n",
    "              44.66083904265621\n",
    "            ],\n",
    "            [\n",
    "              -66.7694091796875,\n",
    "              44.8500274926005\n",
    "            ],\n",
    "            [\n",
    "              -66.8902587890625,\n",
    "              44.779885502772736\n",
    "            ],\n",
    "            [\n",
    "              -67.5,\n",
    "              47.69497434186282\n",
    "            ],\n",
    "            [\n",
    "              -69.60937499999999,\n",
    "              47.754097979680026\n",
    "            ],\n",
    "            [\n",
    "              -71.630859375,\n",
    "              45.521743896993634\n",
    "            ],\n",
    "            [\n",
    "              -101.25,\n",
    "              30.221101852485987\n",
    "            ],\n",
    "            [\n",
    "              -97.294921875,\n",
    "              24.766784522874453\n",
    "            ]\n",
    "          ]\n",
    "        ]\n",
    "      }\n",
    "    }]}\n",
    "\"\"\"))\n"
   ]
  },
  {
   "cell_type": "markdown",
   "id": "85dadf16",
   "metadata": {},
   "source": [
    "Here, we crop that NaturalEarth coastline with the East Coast Json"
   ]
  },
  {
   "cell_type": "code",
   "execution_count": 9,
   "id": "06742e91",
   "metadata": {},
   "outputs": [],
   "source": [
    "eastcoast = gpd.GeoDataFrame.from_features(eastcoast) #convert east coast json to geoadataframe\n",
    "eastcoast=eastcoast.set_crs(epsg=4326) \n",
    "eastcoast_line=gpd.clip(coast, eastcoast) #clip natural earth data to east coat\n",
    "eastcoast = eastcoast_line.reset_index(drop=True)"
   ]
  },
  {
   "cell_type": "markdown",
   "id": "daa060ad",
   "metadata": {},
   "source": [
    "In this next cell we will convert both all of the spatial data to EPSG 3857 crs so our distance measurements are in meters"
   ]
  },
  {
   "cell_type": "code",
   "execution_count": 10,
   "id": "12ae0159",
   "metadata": {},
   "outputs": [],
   "source": [
    "eastcoast=eastcoast.to_crs(epsg=3857)#project to 3857 to make calculation in meters rather than degrees\n",
    "gdf=gdf.to_crs(epsg=3857)#project to 3857 to make calculation in meters rather than degrees\n",
    "gdf = gdf.reset_index(drop=True)"
   ]
  },
  {
   "cell_type": "markdown",
   "id": "9b70e4ce",
   "metadata": {},
   "source": [
    "This next cell runs the distance calculation"
   ]
  },
  {
   "cell_type": "code",
   "execution_count": 11,
   "id": "c35dfe87",
   "metadata": {},
   "outputs": [],
   "source": [
    "gdf['Distance']=gdf.geometry.apply(lambda x: eastcoast.distance(x).min()) #calculate distance using geopandas and set it to df"
   ]
  },
  {
   "cell_type": "markdown",
   "id": "51159b90",
   "metadata": {},
   "source": [
    "Let's see how that worked:"
   ]
  },
  {
   "cell_type": "code",
   "execution_count": 12,
   "id": "67a82ce1",
   "metadata": {},
   "outputs": [
    {
     "name": "stdout",
     "output_type": "stream",
     "text": [
      "0       326.228328\n",
      "1       318.924893\n",
      "2       318.924893\n",
      "3       353.620370\n",
      "4       393.133333\n",
      "           ...    \n",
      "2108    123.020696\n",
      "2109    123.020696\n",
      "2110    129.659719\n",
      "2111    314.878962\n",
      "2112    314.878962\n",
      "Name: Distance, Length: 2113, dtype: float64\n"
     ]
    }
   ],
   "source": [
    "print(gdf['Distance'])"
   ]
  },
  {
   "cell_type": "markdown",
   "id": "bcf6262d",
   "metadata": {},
   "source": [
    "Now lets turn the dataframe back to a Pandas dataframe and drop the \"geometry\" column"
   ]
  },
  {
   "cell_type": "code",
   "execution_count": 13,
   "id": "d2512dea",
   "metadata": {},
   "outputs": [],
   "source": [
    "df=pd.DataFrame(gdf) #convert geodataframe to pandas data frame\n",
    "df=df.drop(columns='geometry')"
   ]
  },
  {
   "cell_type": "markdown",
   "id": "cf012438",
   "metadata": {},
   "source": [
    "Make a plot of the distribution of distances"
   ]
  },
  {
   "cell_type": "code",
   "execution_count": 17,
   "id": "63a0f3ef",
   "metadata": {},
   "outputs": [
    {
     "data": {
      "text/plain": [
       "(array([1216.,  597.,  208.,   49.,   20.,    9.,    4.,    5.,    3.,\n",
       "           2.]),\n",
       " array([1.39043965e-01, 6.16692680e+02, 1.23324632e+03, 1.84979995e+03,\n",
       "        2.46635359e+03, 3.08290722e+03, 3.69946086e+03, 4.31601449e+03,\n",
       "        4.93256813e+03, 5.54912176e+03, 6.16567540e+03]),\n",
       " <BarContainer object of 10 artists>)"
      ]
     },
     "execution_count": 17,
     "metadata": {},
     "output_type": "execute_result"
    },
    {
     "data": {
      "image/png": "[encoded data removed]",
      "text/plain": [
       "<Figure size 432x288 with 1 Axes>"
      ]
     },
     "metadata": {
      "needs_background": "light"
     },
     "output_type": "display_data"
    }
   ],
   "source": [
    "plt.hist(df['Distance'])"
   ]
  },
  {
   "cell_type": "markdown",
   "id": "107236fa",
   "metadata": {},
   "source": [
    "Plot the distributions of sand (d50 < 2mm) versus distance within 1km of the shore"
   ]
  },
  {
   "cell_type": "code",
   "execution_count": 24,
   "id": "3d1efe39",
   "metadata": {},
   "outputs": [
    {
     "data": {
      "text/plain": [
       "<matplotlib.collections.PolyCollection at 0x7f00b0634be0>"
      ]
     },
     "execution_count": 24,
     "metadata": {},
     "output_type": "execute_result"
    },
    {
     "data": {
      "image/png": "[encoded data removed]",
      "text/plain": [
       "<Figure size 432x288 with 1 Axes>"
      ]
     },
     "metadata": {
      "needs_background": "light"
     },
     "output_type": "display_data"
    }
   ],
   "source": [
    "plt.hexbin(df['Distance'][(df['d50']<2) & (df['Distance']<1000)], df['d50'][(df['d50']<2) & (df['Distance']<1000)])"
   ]
  },
  {
   "cell_type": "markdown",
   "id": "31e05c52",
   "metadata": {},
   "source": [
    "### Write to file"
   ]
  },
  {
   "cell_type": "markdown",
   "id": "ab41036f",
   "metadata": {},
   "source": [
    "Finally, define a csv file name for the output dataframe"
   ]
  },
  {
   "cell_type": "code",
   "execution_count": null,
   "id": "79c0b7e5",
   "metadata": {},
   "outputs": [],
   "source": [
    "output_csvfile='../data_plus_locations.csv'"
   ]
  },
  {
   "cell_type": "markdown",
   "id": "aa23e4e9",
   "metadata": {},
   "source": [
    "write the data to that csv file"
   ]
  },
  {
   "cell_type": "code",
   "execution_count": null,
   "id": "e22ac411",
   "metadata": {},
   "outputs": [],
   "source": [
    "df.to_csv(output_csvfile)"
   ]
  }
 ],
 "metadata": {
  "kernelspec": {
   "display_name": "Python 3 (ipykernel)",
   "language": "python",
   "name": "python3"
  },
  "language_info": {
   "codemirror_mode": {
    "name": "ipython",
    "version": 3
   },
   "file_extension": ".py",
   "mimetype": "text/x-python",
   "name": "python",
   "nbconvert_exporter": "python",
   "pygments_lexer": "ipython3",
   "version": "3.10.2"
  }
 },
 "nbformat": 4,
 "nbformat_minor": 5
}
