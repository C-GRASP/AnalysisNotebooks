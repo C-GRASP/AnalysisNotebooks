{
 "cells": [
  {
   "cell_type": "markdown",
   "id": "538c766c",
   "metadata": {},
   "source": [
    "# Sample_Compute_Distance_to_Shore\n",
    "\n",
    "## This notebook estimates distance of sample to natural earth coastline"
   ]
  },
  {
   "cell_type": "code",
   "execution_count": 1,
   "id": "8931921a",
   "metadata": {},
   "outputs": [
    {
     "name": "stderr",
     "output_type": "stream",
     "text": [
      "/home/will/anaconda3/envs/USGS/lib/python3.8/site-packages/geopandas/_compat.py:111: UserWarning: The Shapely GEOS version (3.8.0-CAPI-1.13.1 ) is incompatible with the GEOS version PyGEOS was compiled with (3.10.1-CAPI-1.16.0). Conversions between both will be slow.\n",
      "  warnings.warn(\n"
     ]
    },
    {
     "data": {
      "application/vnd.jupyter.widget-view+json": {
       "model_id": "03d13066f3be478f970bd931c539839a",
       "version_major": 2,
       "version_minor": 0
      },
      "text/plain": [
       "Select(description='Dataset:', options=('Entire Dataset', 'Estimated Onshore Data', 'Verified Onshore Data', '…"
      ]
     },
     "metadata": {},
     "output_type": "display_data"
    }
   ],
   "source": [
    "import ogr, os\n",
    "import pandas as pd\n",
    "import geopandas as gpd\n",
    "import shapefile\n",
    "import json \n",
    "import ipywidgets\n",
    "from cartopy.feature import NaturalEarthFeature\n",
    "import cartopy.io.shapereader as shpreader\n",
    "\n",
    "import numpy as np\n",
    "#Dataset collection widget\n",
    "zen=ipywidgets.Select(\n",
    "    options=['Entire Dataset', 'Estimated Onshore Data', 'Verified Onshore Data', 'Verified Onshore Post 2012 Data'],\n",
    "    value='Entire Dataset',\n",
    "    # rows=10,\n",
    "    description='Dataset:',\n",
    "    disabled=False\n",
    ")\n",
    "\n",
    "display(zen)\n"
   ]
  },
  {
   "cell_type": "code",
   "execution_count": 11,
   "id": "58e1fb66",
   "metadata": {},
   "outputs": [
    {
     "name": "stdout",
     "output_type": "stream",
     "text": [
      "Retrieving Data, Please Wait\n",
      "Sediment Data Retrieved!\n",
      "Sediment Data Converted to a GeoDataFrame, Next cell retrieves Natural Earth Data\n"
     ]
    }
   ],
   "source": [
    "url = 'https://zenodo.org/record/5874231/files/' \n",
    "if zen.value=='Entire Dataset':\n",
    "    filename='dataset_10kmcoast.csv'\n",
    "if zen.value=='Estimated Onshore Data':\n",
    "    filename='Data_EstimatedOnshore.csv'\n",
    "if zen.value=='Verified Onshore Data':\n",
    "    filename='Data_VerifiedOnshore.csv'\n",
    "if zen.value=='Verified Onshore Post 2012 Data':\n",
    "    filename='Data_Post2012_VerifiedOnshore.csv'\n",
    "    \n",
    "url=(url+filename)\n",
    "print('Retrieving Data, Please Wait')\n",
    "#retrieve data\n",
    "df=pd.read_csv(url)\n",
    "print('Sediment Data Retrieved!') \n",
    "gdf=gpd.GeoDataFrame(df,geometry=gpd.points_from_xy(df.longitude, df.latitude))\n",
    "gdf=gdf.set_crs(epsg=4326)\n",
    "print('Sediment Data Converted to a GeoDataFrame, Next cell retrieves Natural Earth Data')\n",
    "\n"
   ]
  },
  {
   "cell_type": "code",
   "execution_count": 3,
   "id": "6fe9dbd9",
   "metadata": {},
   "outputs": [
    {
     "name": "stdout",
     "output_type": "stream",
     "text": [
      "Natural Earth Data retrieved and converted to a GeoDataFrame\n"
     ]
    }
   ],
   "source": [
    "coast = shpreader.natural_earth(resolution='10m',category='physical', name='coastline')\n",
    "coast=gpd.read_file(coast)\n",
    "print('Natural Earth Data retrieved and converted to a GeoDataFrame')"
   ]
  },
  {
   "cell_type": "code",
   "execution_count": 12,
   "id": "d2512dea",
   "metadata": {},
   "outputs": [],
   "source": [
    "#Define Bounds for the East Coast to Clip US Coastal Poly\n",
    "eastcoast=json.loads((\"\"\"\n",
    "     {\"type\": \"FeatureCollection\", \"features\": [{\n",
    "      \"type\": \"Feature\",\n",
    "      \"properties\": {},\n",
    "      \"geometry\": {\n",
    "        \"type\": \"Polygon\",\n",
    "        \"coordinates\": [\n",
    "          [\n",
    "            [\n",
    "              -97.294921875,\n",
    "              24.766784522874453\n",
    "            ],\n",
    "            [\n",
    "              -94.130859375,\n",
    "              22.51255695405145\n",
    "            ],\n",
    "            [\n",
    "              -86.30859375,\n",
    "              21.94304553343818\n",
    "            ],\n",
    "            [\n",
    "              -80.244140625,\n",
    "              16.130262012034756\n",
    "            ],\n",
    "            [\n",
    "              -65.0390625,\n",
    "              15.792253570362446\n",
    "            ],\n",
    "            [\n",
    "              -66.610107421875,\n",
    "              44.66083904265621\n",
    "            ],\n",
    "            [\n",
    "              -66.7694091796875,\n",
    "              44.8500274926005\n",
    "            ],\n",
    "            [\n",
    "              -66.8902587890625,\n",
    "              44.779885502772736\n",
    "            ],\n",
    "            [\n",
    "              -67.5,\n",
    "              47.69497434186282\n",
    "            ],\n",
    "            [\n",
    "              -69.60937499999999,\n",
    "              47.754097979680026\n",
    "            ],\n",
    "            [\n",
    "              -71.630859375,\n",
    "              45.521743896993634\n",
    "            ],\n",
    "            [\n",
    "              -101.25,\n",
    "              30.221101852485987\n",
    "            ],\n",
    "            [\n",
    "              -97.294921875,\n",
    "              24.766784522874453\n",
    "            ]\n",
    "          ]\n",
    "        ]\n",
    "      }\n",
    "    }]}\n",
    "\"\"\"))\n",
    "\n",
    "\n",
    "\n",
    "eastcoast = gpd.GeoDataFrame.from_features(eastcoast) #convert east coast json to geoadataframe\n",
    "eastcoast=eastcoast.set_crs(epsg=4326) \n",
    "eastcoast_line=gpd.clip(coast, eastcoast) #clip natural earth data to east coat\n",
    "eastcoast = eastcoast_line.reset_index(drop=True)\n",
    "eastcoast=eastcoast.to_crs(epsg=3857)#project to 3857 to make calculation in meters rather than degrees\n",
    "gdf=gdf.to_crs(epsg=3857)#project to 3857 to make calculation in meters rather than degrees\n",
    "gdf = gdf.reset_index(drop=True)\n",
    "gdf['distance(m)']=gdf.geometry.apply(lambda x: eastcoast.distance(x).min()) #calculate distance using geopandas and set it to df\n",
    "df1=pd.DataFrame(gdf) #convert geodataframe to pandas data frame"
   ]
  },
  {
   "cell_type": "code",
   "execution_count": null,
   "id": "e22ac411",
   "metadata": {},
   "outputs": [],
   "source": [
    "df1.to_csv('../data.csv') #convert data to CSV\n"
   ]
  }
 ],
 "metadata": {
  "kernelspec": {
   "display_name": "Python 3",
   "language": "python",
   "name": "python3"
  },
  "language_info": {
   "codemirror_mode": {
    "name": "ipython",
    "version": 3
   },
   "file_extension": ".py",
   "mimetype": "text/x-python",
   "name": "python",
   "nbconvert_exporter": "python",
   "pygments_lexer": "ipython3",
   "version": "3.8.10"
  }
 },
 "nbformat": 4,
 "nbformat_minor": 5
}
