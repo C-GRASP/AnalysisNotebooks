{
 "cells": [
  {
   "cell_type": "markdown",
   "id": "538c766c",
   "metadata": {},
   "source": [
    "<table style=\"font-size: 1em; padding: 0; margin: 0;\">\n",
    "\n",
    "<tr style=\"vertical-align: top; padding: 0; margin: 0;background-color: #ffffff\">\n",
    "        <td style=\"vertical-align: top; padding: 0; margin: 0; padding-right: 15px;\">\n",
    "    <p style=\"background: #182AEB; color:#ffffff; text-align:justify; padding: 10px 25px;\">\n",
    "        <strong style=\"font-size: 1.0em;\"><span style=\"font-size: 1.2em;\"><span style=\"color: #ffffff;\">The Coastal Grain Size Portal (C-GRASP) dataset <br/><em>Will Speiser, Daniel Buscombe, Evan Goldstein</em></strong><br/><br/>\n",
    "        <strong>> Compute Sample Distance from Shore </strong><br/>\n",
    "    </p>                       \n",
    "        \n",
    "<p style=\"border: 1px solid #ff5733; border-left: 15px solid #ff5733; padding: 10px; text-align:justify;\">\n",
    "    <strong style=\"color: #ff5733\">The purpose of this notebook</strong>  \n",
    "    <br/><font color=grey> This notebook will output a dataframe containing a new field with an estimated of the distance between each sample from a chosen C-GRASP dataset and the coastline. As C-Grasp file sizes vary completion of this task will vary with internet connectivity and computer processing power.<font><br/>\n",
    "    <br/><font color=grey> This notebook provides simple code that calculates the distance between each sample from a chosen CGRASP dataset and the NaturalEarth 1:50m physical coastline polyline.<font><br/>    \n",
    "    <br/><font color=grey> To do so, a user can choose a dataset of choice. This dataset is then called to your system and then converted into a GeoDataFrame<font><br/>\n",
    "    <br/><font color=grey> The notebook then uses Cartopy to call the NaturalEarth 1:10m coastline polygon<font><br/>\n",
    "     <br/><font color=grey> This coastline is then converted to a GeoDataFrame object and is cropped to an extent of the Eastern United States<font><br/>  \n",
    "    <br/><font color=grey> This coastline is then converted to a GeoDataFrame object and is cropped to an extent of the Eastern United States<font><br/> \n",
    "    <br/><font color=grey> Finally, using the GeoPandas distance function, the distance between nearest features in both GeoDataFrames (the chosen samples and the coastline polylines) is calculated and added to a new \"Distance\" field for each sample<font><br/>  \n",
    "    </p>\n",
    "    "
   ]
  },
  {
   "cell_type": "code",
   "execution_count": null,
   "id": "187c79d5",
   "metadata": {},
   "outputs": [],
   "source": [
    "import pandas as pd\n",
    "import geopandas as gpd\n",
    "import shapefile\n",
    "import json \n",
    "import ipywidgets\n",
    "from cartopy.feature import NaturalEarthFeature\n",
    "import cartopy.io.shapereader as shpreader\n",
    "import numpy as np\n"
   ]
  },
  {
   "cell_type": "markdown",
   "id": "41dd3a0e",
   "metadata": {},
   "source": [
    "#### Select a dataset"
   ]
  },
  {
   "cell_type": "code",
   "execution_count": null,
   "id": "8931921a",
   "metadata": {},
   "outputs": [],
   "source": [
    "#Dataset collection widget\n",
    "zen=ipywidgets.Select(\n",
    "    options=['Entire Dataset', 'Estimated Onshore Data', 'Verified Onshore Data', 'Verified Onshore Post 2012 Data'],\n",
    "    value='Entire Dataset',\n",
    "    # rows=10,\n",
    "    description='Dataset:',\n",
    "    disabled=False\n",
    ")\n",
    "\n",
    "display(zen)\n"
   ]
  },
  {
   "cell_type": "markdown",
   "id": "ba723514",
   "metadata": {},
   "source": [
    "#### Download the dataset"
   ]
  },
  {
   "cell_type": "code",
   "execution_count": null,
   "id": "58e1fb66",
   "metadata": {},
   "outputs": [],
   "source": [
    "url = 'https://zenodo.org/record/6099266/files/' \n",
    "if zen.value=='Entire Dataset':\n",
    "    filename='dataset_10kmcoast.csv'\n",
    "if zen.value=='Estimated Onshore Data':\n",
    "    filename='Data_EstimatedOnshore.csv'\n",
    "if zen.value=='Verified Onshore Data':\n",
    "    filename='Data_VerifiedOnshore.csv'\n",
    "if zen.value=='Verified Onshore Post 2012 Data':\n",
    "    filename='Data_Post2012_VerifiedOnshore.csv'\n",
    "print(\"Downloading {}\".format(url+filename))   \n"
   ]
  },
  {
   "cell_type": "markdown",
   "id": "0edcdea4",
   "metadata": {},
   "source": [
    "The next cell will download the CGRASP dataset and read it in as a pandas dataframe with variable name `df`"
   ]
  },
  {
   "cell_type": "code",
   "execution_count": null,
   "id": "dd1a1838",
   "metadata": {},
   "outputs": [],
   "source": [
    "url=(url+filename)\n",
    "print('Retrieving Data, Please Wait')\n",
    "#retrieve data\n",
    "df=pd.read_csv(url)\n",
    "print('Sediment Data Retrieved!') \n"
   ]
  },
  {
   "cell_type": "markdown",
   "id": "1a1029db",
   "metadata": {},
   "source": [
    "Let's take a quick look at the top of the file"
   ]
  },
  {
   "cell_type": "code",
   "execution_count": null,
   "id": "63cb1b1c",
   "metadata": {},
   "outputs": [],
   "source": [
    "df.head()"
   ]
  },
  {
   "cell_type": "markdown",
   "id": "19ad720a",
   "metadata": {},
   "source": [
    "Now we'll convert that data frame to a GeoDataFrame, that way we can do spatial calculations on it."
   ]
  },
  {
   "cell_type": "code",
   "execution_count": null,
   "id": "a3365166",
   "metadata": {},
   "outputs": [],
   "source": [
    "gdf=gpd.GeoDataFrame(df,geometry=gpd.points_from_xy(df.longitude, df.latitude))\n",
    "gdf=gdf.set_crs(epsg=4326)\n",
    "print('Sediment Data Converted to a GeoDataFrame, Next cell retrieves Natural Earth Data')\n"
   ]
  },
  {
   "cell_type": "markdown",
   "id": "bc4b4d64",
   "metadata": {},
   "source": [
    "Now let's call that NaturalEarth Coastline polyline:"
   ]
  },
  {
   "cell_type": "code",
   "execution_count": null,
   "id": "6fe9dbd9",
   "metadata": {},
   "outputs": [],
   "source": [
    "coast = shpreader.natural_earth(resolution='10m',category='physical', name='coastline')\n",
    "coast=gpd.read_file(coast)\n",
    "print('Natural Earth Data retrieved and converted to a GeoDataFrame')"
   ]
  },
  {
   "cell_type": "markdown",
   "id": "b8e7dcf0",
   "metadata": {},
   "source": [
    "This next cell creates a json to define bounds for the East Coast US (C-Grasp's area of study)"
   ]
  },
  {
   "cell_type": "code",
   "execution_count": null,
   "id": "de5fde33",
   "metadata": {},
   "outputs": [],
   "source": [
    "#Define Bounds for the East Coast to Clip US Coastal Poly\n",
    "eastcoast=json.loads((\"\"\"\n",
    "     {\"type\": \"FeatureCollection\", \"features\": [{\n",
    "      \"type\": \"Feature\",\n",
    "      \"properties\": {},\n",
    "      \"geometry\": {\n",
    "        \"type\": \"Polygon\",\n",
    "        \"coordinates\": [\n",
    "          [\n",
    "            [\n",
    "              -97.294921875,\n",
    "              24.766784522874453\n",
    "            ],\n",
    "            [\n",
    "              -94.130859375,\n",
    "              22.51255695405145\n",
    "            ],\n",
    "            [\n",
    "              -86.30859375,\n",
    "              21.94304553343818\n",
    "            ],\n",
    "            [\n",
    "              -80.244140625,\n",
    "              16.130262012034756\n",
    "            ],\n",
    "            [\n",
    "              -65.0390625,\n",
    "              15.792253570362446\n",
    "            ],\n",
    "            [\n",
    "              -66.610107421875,\n",
    "              44.66083904265621\n",
    "            ],\n",
    "            [\n",
    "              -66.7694091796875,\n",
    "              44.8500274926005\n",
    "            ],\n",
    "            [\n",
    "              -66.8902587890625,\n",
    "              44.779885502772736\n",
    "            ],\n",
    "            [\n",
    "              -67.5,\n",
    "              47.69497434186282\n",
    "            ],\n",
    "            [\n",
    "              -69.60937499999999,\n",
    "              47.754097979680026\n",
    "            ],\n",
    "            [\n",
    "              -71.630859375,\n",
    "              45.521743896993634\n",
    "            ],\n",
    "            [\n",
    "              -101.25,\n",
    "              30.221101852485987\n",
    "            ],\n",
    "            [\n",
    "              -97.294921875,\n",
    "              24.766784522874453\n",
    "            ]\n",
    "          ]\n",
    "        ]\n",
    "      }\n",
    "    }]}\n",
    "\"\"\"))\n"
   ]
  },
  {
   "cell_type": "markdown",
   "id": "85dadf16",
   "metadata": {},
   "source": [
    "Here, we crop that NaturalEarth coastline with the East Coast Json"
   ]
  },
  {
   "cell_type": "code",
   "execution_count": null,
   "id": "06742e91",
   "metadata": {},
   "outputs": [],
   "source": [
    "eastcoast = gpd.GeoDataFrame.from_features(eastcoast) #convert east coast json to geoadataframe\n",
    "eastcoast=eastcoast.set_crs(epsg=4326) \n",
    "eastcoast_line=gpd.clip(coast, eastcoast) #clip natural earth data to east coat\n",
    "eastcoast = eastcoast_line.reset_index(drop=True)"
   ]
  },
  {
   "cell_type": "markdown",
   "id": "daa060ad",
   "metadata": {},
   "source": [
    "In this next cell we will convert both all of the spatial data to EPSG 3857 crs so our distance measurements are in meters"
   ]
  },
  {
   "cell_type": "code",
   "execution_count": null,
   "id": "12ae0159",
   "metadata": {},
   "outputs": [],
   "source": [
    "eastcoast=eastcoast.to_crs(epsg=3857)#project to 3857 to make calculation in meters rather than degrees\n",
    "gdf=gdf.to_crs(epsg=3857)#project to 3857 to make calculation in meters rather than degrees\n",
    "gdf = gdf.reset_index(drop=True)"
   ]
  },
  {
   "cell_type": "markdown",
   "id": "9b70e4ce",
   "metadata": {},
   "source": [
    "This next cell runs the distance calculation"
   ]
  },
  {
   "cell_type": "code",
   "execution_count": null,
   "id": "c35dfe87",
   "metadata": {},
   "outputs": [],
   "source": [
    "gdf['Distance']=gdf.geometry.apply(lambda x: eastcoast.distance(x).min()) #calculate distance using geopandas and set it to df"
   ]
  },
  {
   "cell_type": "markdown",
   "id": "51159b90",
   "metadata": {},
   "source": [
    "Let's see how that worked:"
   ]
  },
  {
   "cell_type": "code",
   "execution_count": null,
   "id": "67a82ce1",
   "metadata": {},
   "outputs": [],
   "source": [
    "print(gdf['Distance'])"
   ]
  },
  {
   "cell_type": "markdown",
   "id": "bcf6262d",
   "metadata": {},
   "source": [
    "Now lets turn the dataframe back to a Pandas dataframe and drop the \"geometry\" column"
   ]
  },
  {
   "cell_type": "code",
   "execution_count": null,
   "id": "d2512dea",
   "metadata": {},
   "outputs": [],
   "source": [
    "df=pd.DataFrame(gdf) #convert geodataframe to pandas data frame\n",
    "df=df.drop(columns='geometry')"
   ]
  },
  {
   "cell_type": "markdown",
   "id": "31e05c52",
   "metadata": {},
   "source": [
    "### Write to file"
   ]
  },
  {
   "cell_type": "markdown",
   "id": "ab41036f",
   "metadata": {},
   "source": [
    "Finally, define a csv file name for the output dataframe"
   ]
  },
  {
   "cell_type": "code",
   "execution_count": null,
   "id": "79c0b7e5",
   "metadata": {},
   "outputs": [],
   "source": [
    "output_csvfile='../data_plus_locations.csv'"
   ]
  },
  {
   "cell_type": "markdown",
   "id": "aa23e4e9",
   "metadata": {},
   "source": [
    "write the data to that csv file"
   ]
  },
  {
   "cell_type": "code",
   "execution_count": null,
   "id": "e22ac411",
   "metadata": {},
   "outputs": [],
   "source": [
    "df.to_csv(output_csvfile)"
   ]
  }
 ],
 "metadata": {
  "kernelspec": {
   "display_name": "Python 3",
   "language": "python",
   "name": "python3"
  },
  "language_info": {
   "codemirror_mode": {
    "name": "ipython",
    "version": 3
   },
   "file_extension": ".py",
   "mimetype": "text/x-python",
   "name": "python",
   "nbconvert_exporter": "python",
   "pygments_lexer": "ipython3",
   "version": "3.8.10"
  }
 },
 "nbformat": 4,
 "nbformat_minor": 5
}
