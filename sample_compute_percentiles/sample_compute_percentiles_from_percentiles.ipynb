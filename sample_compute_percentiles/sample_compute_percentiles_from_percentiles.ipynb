{
 "cells": [
  {
   "cell_type": "markdown",
   "id": "d972d5ce",
   "metadata": {},
   "source": [
    "## **Compute  Percentiles From Percentiles**\n",
    "\n",
    "## This notebook serves as a guide of how to calculate values for of-interest sediment distributions from that are not provided within a dataset from other distributions that *are* provided. (I.e., calculate d5 from provided d10, d50, d90 values)\n",
    "\n",
    "\n",
    "* To do so, the user (you) enters a dataset where the values of percentile distributions are provided (e.g., d10, d50, d90).\n",
    "    \n",
    "    \n",
    "*  The user will enter in the distributions that they are interested in calculated from those values (e.g., d5, d30, etc.)\n",
    "\n",
    "* for this example we will be using data from SandSnap\n",
    "\n",
    "\n",
    "    \n",
    "    \n",
    "\n",
    "## <font color=grey> *This notebooks' output adds new fields to the input sample data dataframe for each specified distribution that the user is interested in estimating. This estimation will be more accurate for datasets with more originally provided distributions. Also see sample_compute_interpolation_error*<font>\n"
   ]
  },
  {
   "cell_type": "markdown",
   "id": "f8477e5a",
   "metadata": {},
   "source": [
    "## Run these two cells  to get everything set up:"
   ]
  },
  {
   "cell_type": "code",
   "execution_count": null,
   "id": "b22b2464",
   "metadata": {},
   "outputs": [],
   "source": [
    "import pandas as pd\n",
    "import numpy as np\n",
    "import scipy\n",
    "from scipy.interpolate import interp1d\n",
    "import requests"
   ]
  },
  {
   "cell_type": "code",
   "execution_count": null,
   "id": "0ce79194",
   "metadata": {},
   "outputs": [],
   "source": [
    "# from https://stackoverflow.com/questions/38511444/python-download-files-from-google-drive-using-url\n",
    "\n",
    "def download_file_from_google_drive(id, destination):\n",
    "    URL = \"https://docs.google.com/uc?export=download\"\n",
    "\n",
    "    session = requests.Session()\n",
    "\n",
    "    response = session.get(URL, params = { 'id' : id }, stream = True)\n",
    "    token = get_confirm_token(response)\n",
    "\n",
    "    if token:\n",
    "        params = { 'id' : id, 'confirm' : token }\n",
    "        response = session.get(URL, params = params, stream = True)\n",
    "\n",
    "    save_response_content(response, destination)    \n",
    "\n",
    "def get_confirm_token(response):\n",
    "    for key, value in response.cookies.items():\n",
    "        if key.startswith('download_warning'):\n",
    "            return value\n",
    "\n",
    "    return None\n",
    "\n",
    "def save_response_content(response, destination):\n",
    "    \"\"\"\n",
    "    response = filename for input\n",
    "    destination = filename for output\n",
    "    \"\"\"    \n",
    "    CHUNK_SIZE = 32768\n",
    "\n",
    "    with open(destination, \"wb\") as f:\n",
    "        for chunk in response.iter_content(CHUNK_SIZE):\n",
    "            if chunk: # filter out keep-alive new chunks\n",
    "                f.write(chunk)\n",
    "\n"
   ]
  },
  {
   "cell_type": "markdown",
   "id": "54cc12b0",
   "metadata": {},
   "source": [
    "##  **And then Import the Sample Dataset:**\n",
    "\n",
    "### For this example we will be using sediment data from SandSnap\n"
   ]
  },
  {
   "cell_type": "code",
   "execution_count": null,
   "id": "e49fe080",
   "metadata": {},
   "outputs": [],
   "source": [
    "\n",
    "DATASET_ID = '1p_x1boL12i-Yt1Eou845vf4CbaOEEOLr'\n",
    "\n",
    "\n",
    "destination = '../data.csv'\n",
    "download_file_from_google_drive(DATASET_ID, destination)\n",
    "df= pd.read_csv(destination)\n"
   ]
  },
  {
   "cell_type": "markdown",
   "id": "a2b8e023",
   "metadata": {},
   "source": [
    "## In this cell you will estimate your unknown distributions using the ones provided in the dataset. "
   ]
  },
  {
   "cell_type": "code",
   "execution_count": null,
   "id": "c33df665",
   "metadata": {},
   "outputs": [],
   "source": [
    "#This loop will iterate for each sample in the dataset\n",
    "for i in range(0,len(df)):\n",
    "        #Set variables for columns of provided percentile distributions. E.g.:\n",
    "        d10=df['d10'].iloc[i]\n",
    "        d16=df['d16'].iloc[i]\n",
    "        d25=df['d25'].iloc[i]\n",
    "        d50=df['d50'].iloc[i]\n",
    "        d65=df['d65'].iloc[i]\n",
    "        d84=df['d84'].iloc[i]\n",
    "        d90=df['d90'].iloc[i]\n",
    "        \n",
    "        #Here, you are creating an array of the variables you just created. Make sure to put each one that you set in the brackets\n",
    "        grain_size_bins=[d10,d16,d25,d50,d65,d84,d90]\n",
    "        \n",
    "        #Here, you are creating an array of the percentile values of the distributions for the above respective variables. Make sure to put each one that you set in the brackets\n",
    "        grain_size_frequencies=[.1,.16,.25,.5,.65,.84,.9]\n",
    "        \n",
    "        \n",
    "        #Here we will use scipy's interpolation toolbox to create a function that calculates unknow distributions of interest.\n",
    "        distribution = scipy.interpolate.interp1d(grain_size_frequencies, grain_size_bins, bounds_error=False, fill_value='extrapolate')\n",
    "        \n",
    "        #Here we will create new columns for percentile distributions in which we would like to calculate respective grainsize values\n",
    "        #For each column (which you set on the left side of the equation, entering the appropriate name in the brackets), you will run the function made in the code line above\n",
    "        #Enter in the appropriate percentile value in which you wish to calculate within the paranthesis following \"distribution\"\n",
    "        #E.g., for \"d5\"  enter in \"distribution(.05)\". \n",
    "        df.loc[i,[\"d5\"]] = distribution(.05)\n",
    "        df.loc[i,[\"d30\"]]= distribution(.3)\n",
    "        df.loc[i,[\"d75\"]] = distribution(.75)\n",
    "        df.loc[i,[\"d95\"]]= distribution(.95)\n"
   ]
  }
 ],
 "metadata": {
  "kernelspec": {
   "display_name": "Python 3",
   "language": "python",
   "name": "python3"
  },
  "language_info": {
   "codemirror_mode": {
    "name": "ipython",
    "version": 3
   },
   "file_extension": ".py",
   "mimetype": "text/x-python",
   "name": "python",
   "nbconvert_exporter": "python",
   "pygments_lexer": "ipython3",
   "version": "3.8.10"
  }
 },
 "nbformat": 4,
 "nbformat_minor": 5
}
