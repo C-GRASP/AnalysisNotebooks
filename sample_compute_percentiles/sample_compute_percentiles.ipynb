{
 "cells": [
  {
   "cell_type": "markdown",
   "metadata": {},
   "source": [
    "<table style=\"font-size: 1em; padding: 0; margin: 0;\">\n",
    "\n",
    "<tr style=\"vertical-align: top; padding: 0; margin: 0;background-color: #ffffff\">\n",
    "        <td style=\"vertical-align: top; padding: 0; margin: 0; padding-right: 15px;\">\n",
    "    <p style=\"background: #182AEB; color:#ffffff; text-align:justify; padding: 10px 25px;\">\n",
    "        <strong style=\"font-size: 1.0em;\"><span style=\"font-size: 1.2em;\"><span style=\"color: #ffffff;\">The Coastal Grain Size Portal (C-GRASP) dataset <br/><em>Will Speiser, Daniel Buscombe, Evan Goldstein</em></strong><br/><br/>\n",
    "        <strong>> Interpolate Percentiles from Other Dataset Percentiles </strong><br/>\n",
    "    </p>                       \n",
    "        \n",
    "<p style=\"border: 1px solid #ff5733; border-left: 15px solid #ff5733; padding: 10px; text-align:justify;\">\n",
    "    <strong style=\"color: #ff5733\">The purpose of this notebook</strong>  \n",
    "    <br/><font color=grey> This notebook will output a dataframe containing all of the data from a chosen C-GRASP dataset with a new field containing a chosen cumulative distribution percentile that one wishes to calculate/recalculate from pre-existing dataset distribution percentile values. As C-Grasp file sizes vary completion of this task will vary with internet connectivity.<font><br/>\n",
    "    <br/><font color=grey> This notebook provides simple code that interpolates input distribution percentile values from already calculated values.<font><br/>    \n",
    "    <br/><font color=grey> To do so, a user can choose a dataset of choice and then types the percentile they wish to calculate. <font><br/>\n",
    "    <br/><font color=grey> The notebook then runs uses a the scipy interpolation function to calculate the input percentile in mm units.<font><br/>    \n",
    "    </p>"
   ]
  },
  {
   "cell_type": "code",
   "execution_count": 16,
   "metadata": {},
   "outputs": [],
   "source": [
    "import pandas as pd\n",
    "import scipy\n",
    "from scipy.interpolate import interp1d\n",
    "import requests\n",
    "import ipywidgets"
   ]
  },
  {
   "cell_type": "markdown",
   "metadata": {},
   "source": [
    "#### Select a dataset"
   ]
  },
  {
   "cell_type": "code",
   "execution_count": 17,
   "metadata": {},
   "outputs": [
    {
     "data": {
      "application/vnd.jupyter.widget-view+json": {
       "model_id": "c68756acedb744f1b137fd2dc2f9a0de",
       "version_major": 2,
       "version_minor": 0
      },
      "text/plain": [
       "Select(description='Dataset:', options=('Entire Dataset', 'Estimated Onshore Data', 'Verified Onshore Data', '…"
      ]
     },
     "metadata": {},
     "output_type": "display_data"
    }
   ],
   "source": [
    "#Dataset collection widget\n",
    "zen=ipywidgets.Select(\n",
    "    options=['Entire Dataset', 'Estimated Onshore Data', 'Verified Onshore Data', 'Verified Onshore Post 2012 Data'],\n",
    "    value='Entire Dataset',\n",
    "    # rows=10,\n",
    "    description='Dataset:',\n",
    "    disabled=False\n",
    ")\n",
    "\n",
    "display(zen)"
   ]
  },
  {
   "cell_type": "markdown",
   "metadata": {},
   "source": [
    "#### Enter a distribution you want to calculate into the textbox  e.g.: 'd86'"
   ]
  },
  {
   "cell_type": "code",
   "execution_count": 18,
   "metadata": {},
   "outputs": [
    {
     "data": {
      "application/vnd.jupyter.widget-view+json": {
       "model_id": "dcf9747bec3e43a18d143588f3b54f30",
       "version_major": 2,
       "version_minor": 0
      },
      "text/plain": [
       "Text(value='d86', description='Distribution:', placeholder='Type something')"
      ]
     },
     "metadata": {},
     "output_type": "display_data"
    }
   ],
   "source": [
    "dist=ipywidgets.Text(\n",
    "    value='d86',\n",
    "    placeholder='Type something',\n",
    "    description='Distribution:',\n",
    "    disabled=False\n",
    ")\n",
    "\n",
    "display(dist)"
   ]
  },
  {
   "cell_type": "markdown",
   "metadata": {},
   "source": [
    "#### Download the dataset"
   ]
  },
  {
   "cell_type": "code",
   "execution_count": 19,
   "metadata": {},
   "outputs": [
    {
     "name": "stdout",
     "output_type": "stream",
     "text": [
      "Downloading https://zenodo.org/record/5874231/files/Data_Post2012_VerifiedOnshore.csv\n"
     ]
    }
   ],
   "source": [
    "url = 'https://zenodo.org/record/5874231/files/' \n",
    "if zen.value=='Entire Dataset':\n",
    "    filename='dataset_10kmcoast.csv'\n",
    "if zen.value=='Estimated Onshore Data':\n",
    "    filename='Data_EstimatedOnshore.csv'\n",
    "if zen.value=='Verified Onshore Data':\n",
    "    filename='Data_VerifiedOnshore.csv'\n",
    "if zen.value=='Verified Onshore Post 2012 Data':\n",
    "    filename='Data_Post2012_VerifiedOnshore.csv'\n",
    "print(\"Downloading {}\".format(url+filename))   "
   ]
  },
  {
   "cell_type": "markdown",
   "metadata": {},
   "source": [
    "The next cell will download the CGRASP dataset and read it in as a pandas dataframe with variable name `df`"
   ]
  },
  {
   "cell_type": "code",
   "execution_count": 20,
   "metadata": {},
   "outputs": [
    {
     "name": "stdout",
     "output_type": "stream",
     "text": [
      "Retrieving Data, Please Wait\n",
      "Sediment Data Retrieved!\n"
     ]
    }
   ],
   "source": [
    "url=(url+filename)\n",
    "print('Retrieving Data, Please Wait')\n",
    "#retrieve data\n",
    "df=pd.read_csv(url)\n",
    "print('Sediment Data Retrieved!') "
   ]
  },
  {
   "cell_type": "markdown",
   "metadata": {},
   "source": [
    "Let's take a quick look at the top of the file"
   ]
  },
  {
   "cell_type": "code",
   "execution_count": 23,
   "metadata": {},
   "outputs": [
    {
     "data": {
      "text/html": [
       "<div>\n",
       "<style scoped>\n",
       "    .dataframe tbody tr th:only-of-type {\n",
       "        vertical-align: middle;\n",
       "    }\n",
       "\n",
       "    .dataframe tbody tr th {\n",
       "        vertical-align: top;\n",
       "    }\n",
       "\n",
       "    .dataframe thead th {\n",
       "        text-align: right;\n",
       "    }\n",
       "</style>\n",
       "<table border=\"1\" class=\"dataframe\">\n",
       "  <thead>\n",
       "    <tr style=\"text-align: right;\">\n",
       "      <th></th>\n",
       "      <th>Unnamed: 0</th>\n",
       "      <th>Unnamed: 0.1</th>\n",
       "      <th>Unnamed: 0.1.1</th>\n",
       "      <th>Sample_ID</th>\n",
       "      <th>Sample_Type_Code</th>\n",
       "      <th>Project</th>\n",
       "      <th>dataset</th>\n",
       "      <th>Date</th>\n",
       "      <th>Location_Type</th>\n",
       "      <th>latitude</th>\n",
       "      <th>...</th>\n",
       "      <th>d25</th>\n",
       "      <th>d30</th>\n",
       "      <th>d50</th>\n",
       "      <th>d65</th>\n",
       "      <th>d75</th>\n",
       "      <th>d84</th>\n",
       "      <th>d90</th>\n",
       "      <th>d95</th>\n",
       "      <th>Notes</th>\n",
       "      <th>unique_id</th>\n",
       "    </tr>\n",
       "  </thead>\n",
       "  <tbody>\n",
       "    <tr>\n",
       "      <th>0</th>\n",
       "      <td>0</td>\n",
       "      <td>610</td>\n",
       "      <td>610</td>\n",
       "      <td>SPIbeach5</td>\n",
       "      <td>1.0</td>\n",
       "      <td>SandSnap, image taken by:</td>\n",
       "      <td>sandsnap</td>\n",
       "      <td>2021-11-08</td>\n",
       "      <td>Beach?Y</td>\n",
       "      <td>26.12871</td>\n",
       "      <td>...</td>\n",
       "      <td>0.624976</td>\n",
       "      <td>0.657068</td>\n",
       "      <td>0.785439</td>\n",
       "      <td>0.889342</td>\n",
       "      <td>1.016927</td>\n",
       "      <td>1.131754</td>\n",
       "      <td>1.276942</td>\n",
       "      <td>1.397932</td>\n",
       "      <td>NaN</td>\n",
       "      <td>NaN</td>\n",
       "    </tr>\n",
       "    <tr>\n",
       "      <th>1</th>\n",
       "      <td>1</td>\n",
       "      <td>611</td>\n",
       "      <td>611</td>\n",
       "      <td>SPI6</td>\n",
       "      <td>1.0</td>\n",
       "      <td>SandSnap, image taken by:</td>\n",
       "      <td>sandsnap</td>\n",
       "      <td>2021-11-08</td>\n",
       "      <td>Beach?Y</td>\n",
       "      <td>26.12899</td>\n",
       "      <td>...</td>\n",
       "      <td>0.624976</td>\n",
       "      <td>0.657068</td>\n",
       "      <td>0.785439</td>\n",
       "      <td>0.889342</td>\n",
       "      <td>1.016927</td>\n",
       "      <td>1.131754</td>\n",
       "      <td>1.276942</td>\n",
       "      <td>1.397932</td>\n",
       "      <td>NaN</td>\n",
       "      <td>NaN</td>\n",
       "    </tr>\n",
       "    <tr>\n",
       "      <th>2</th>\n",
       "      <td>2</td>\n",
       "      <td>612</td>\n",
       "      <td>612</td>\n",
       "      <td>SPI6</td>\n",
       "      <td>1.0</td>\n",
       "      <td>SandSnap, image taken by:</td>\n",
       "      <td>sandsnap</td>\n",
       "      <td>2021-11-08</td>\n",
       "      <td>Beach?Y</td>\n",
       "      <td>26.12899</td>\n",
       "      <td>...</td>\n",
       "      <td>0.624976</td>\n",
       "      <td>0.657068</td>\n",
       "      <td>0.785439</td>\n",
       "      <td>0.889342</td>\n",
       "      <td>1.016927</td>\n",
       "      <td>1.131754</td>\n",
       "      <td>1.276942</td>\n",
       "      <td>1.397932</td>\n",
       "      <td>NaN</td>\n",
       "      <td>NaN</td>\n",
       "    </tr>\n",
       "    <tr>\n",
       "      <th>3</th>\n",
       "      <td>3</td>\n",
       "      <td>853</td>\n",
       "      <td>853</td>\n",
       "      <td>SPIbeach4</td>\n",
       "      <td>1.0</td>\n",
       "      <td>SandSnap, image taken by:</td>\n",
       "      <td>sandsnap</td>\n",
       "      <td>2021-11-08</td>\n",
       "      <td>Beach?Y</td>\n",
       "      <td>26.16883</td>\n",
       "      <td>...</td>\n",
       "      <td>0.624976</td>\n",
       "      <td>0.657068</td>\n",
       "      <td>0.785439</td>\n",
       "      <td>0.889342</td>\n",
       "      <td>1.016927</td>\n",
       "      <td>1.131754</td>\n",
       "      <td>1.276942</td>\n",
       "      <td>1.397932</td>\n",
       "      <td>NaN</td>\n",
       "      <td>NaN</td>\n",
       "    </tr>\n",
       "    <tr>\n",
       "      <th>4</th>\n",
       "      <td>4</td>\n",
       "      <td>854</td>\n",
       "      <td>854</td>\n",
       "      <td>SPIbeach3</td>\n",
       "      <td>1.0</td>\n",
       "      <td>SandSnap, image taken by:</td>\n",
       "      <td>sandsnap</td>\n",
       "      <td>2021-11-08</td>\n",
       "      <td>Beach?Y</td>\n",
       "      <td>26.16885</td>\n",
       "      <td>...</td>\n",
       "      <td>0.624976</td>\n",
       "      <td>0.657068</td>\n",
       "      <td>0.785439</td>\n",
       "      <td>0.889342</td>\n",
       "      <td>1.016927</td>\n",
       "      <td>1.131754</td>\n",
       "      <td>1.276942</td>\n",
       "      <td>1.397932</td>\n",
       "      <td>NaN</td>\n",
       "      <td>NaN</td>\n",
       "    </tr>\n",
       "  </tbody>\n",
       "</table>\n",
       "<p>5 rows × 37 columns</p>\n",
       "</div>"
      ],
      "text/plain": [
       "   Unnamed: 0  Unnamed: 0.1  Unnamed: 0.1.1  Sample_ID  Sample_Type_Code  \\\n",
       "0           0           610             610  SPIbeach5               1.0   \n",
       "1           1           611             611       SPI6               1.0   \n",
       "2           2           612             612       SPI6               1.0   \n",
       "3           3           853             853  SPIbeach4               1.0   \n",
       "4           4           854             854  SPIbeach3               1.0   \n",
       "\n",
       "                      Project   dataset        Date Location_Type  latitude  \\\n",
       "0  SandSnap, image taken by:   sandsnap  2021-11-08       Beach?Y  26.12871   \n",
       "1  SandSnap, image taken by:   sandsnap  2021-11-08       Beach?Y  26.12899   \n",
       "2  SandSnap, image taken by:   sandsnap  2021-11-08       Beach?Y  26.12899   \n",
       "3  SandSnap, image taken by:   sandsnap  2021-11-08       Beach?Y  26.16883   \n",
       "4  SandSnap, image taken by:   sandsnap  2021-11-08       Beach?Y  26.16885   \n",
       "\n",
       "   ...       d25       d30       d50       d65       d75       d84       d90  \\\n",
       "0  ...  0.624976  0.657068  0.785439  0.889342  1.016927  1.131754  1.276942   \n",
       "1  ...  0.624976  0.657068  0.785439  0.889342  1.016927  1.131754  1.276942   \n",
       "2  ...  0.624976  0.657068  0.785439  0.889342  1.016927  1.131754  1.276942   \n",
       "3  ...  0.624976  0.657068  0.785439  0.889342  1.016927  1.131754  1.276942   \n",
       "4  ...  0.624976  0.657068  0.785439  0.889342  1.016927  1.131754  1.276942   \n",
       "\n",
       "        d95  Notes unique_id  \n",
       "0  1.397932    NaN       NaN  \n",
       "1  1.397932    NaN       NaN  \n",
       "2  1.397932    NaN       NaN  \n",
       "3  1.397932    NaN       NaN  \n",
       "4  1.397932    NaN       NaN  \n",
       "\n",
       "[5 rows x 37 columns]"
      ]
     },
     "execution_count": 23,
     "metadata": {},
     "output_type": "execute_result"
    }
   ],
   "source": [
    "df.head()"
   ]
  },
  {
   "cell_type": "markdown",
   "metadata": {},
   "source": [
    "The next cell will create seperate the number value from the distribution you input for calculations in the cell after (e.g. '86' from 'd86)"
   ]
  },
  {
   "cell_type": "code",
   "execution_count": 24,
   "metadata": {},
   "outputs": [],
   "source": [
    "percentile_value=dist.value.split('d')[1]\n",
    "prcntl=float(percentile_value)/100"
   ]
  },
  {
   "cell_type": "markdown",
   "metadata": {},
   "source": [
    "## In this cell you will estimate the input distribution percetile for each sample that has other distribution information available using the Scipy interpolation function and add it to a new dataframe column "
   ]
  },
  {
   "cell_type": "code",
   "execution_count": 27,
   "metadata": {},
   "outputs": [],
   "source": [
    "df[dist.value]='' #create a new blank column for your values calculated int he loop below\n",
    "\n",
    "#This loop will iterate for each sample in the dataset\n",
    "for i in range(0,len(df)):\n",
    "    try:\n",
    "        #Set variables for columns of provided percentile distributions. E.g.:\n",
    "        d10=df['d10'].iloc[i]\n",
    "        d16=df['d16'].iloc[i]\n",
    "        d25=df['d25'].iloc[i]\n",
    "        d50=df['d50'].iloc[i]\n",
    "        d65=df['d65'].iloc[i]\n",
    "        d84=df['d84'].iloc[i]\n",
    "        d90=df['d90'].iloc[i]\n",
    "        \n",
    "        #Here, you are creating an array of the variables you just created. Make sure to put each one that you set in the brackets\n",
    "        grain_size_bins=[d10,d16,d25,d50,d65,d84,d90]\n",
    "        \n",
    "        #Here, you are creating an array of the percentile values of the distributions for the above respective variables. Make sure to put each one that you set in the brackets\n",
    "        grain_size_frequencies=[.1,.16,.25,.5,.65,.84,.9]\n",
    "        \n",
    "        #Here we will use scipy's interpolation toolbox to create a function that calculates unknow distributions of interest.\n",
    "        distribution = scipy.interpolate.interp1d(grain_size_frequencies, grain_size_bins, bounds_error=False, fill_value='extrapolate')\n",
    "        \n",
    "        #Here we will create a new column for the input percentile distributions in which we would like to calculate respective grainsize values\n",
    "        #The extracted numerical value from the input text will be put into the scipy interpolation tool\n",
    "        df.loc[i,[dist.value]] = distribution(prcntl)\n",
    "    except:\n",
    "        pass"
   ]
  },
  {
   "cell_type": "markdown",
   "metadata": {},
   "source": [
    "Let's check out that new distribution percentile column"
   ]
  },
  {
   "cell_type": "code",
   "execution_count": 28,
   "metadata": {},
   "outputs": [
    {
     "data": {
      "text/plain": [
       "0        1.1801496377013507\n",
       "1        1.1801496377013507\n",
       "2        1.1801496377013507\n",
       "3        1.1801496377013507\n",
       "4        1.1801496377013507\n",
       "               ...         \n",
       "2112     0.5860622917060153\n",
       "2113    0.33590998043052833\n",
       "2114     0.6092682926829268\n",
       "2115    0.28173399266666665\n",
       "2116     1.5095520797141415\n",
       "Name: d86, Length: 2117, dtype: object"
      ]
     },
     "execution_count": 28,
     "metadata": {},
     "output_type": "execute_result"
    }
   ],
   "source": [
    "df[dist.value]"
   ]
  },
  {
   "cell_type": "markdown",
   "metadata": {},
   "source": [
    "### Write to file"
   ]
  },
  {
   "cell_type": "markdown",
   "metadata": {},
   "source": [
    "Finally, define a csv file name for the output dataframe"
   ]
  },
  {
   "cell_type": "code",
   "execution_count": null,
   "metadata": {},
   "outputs": [],
   "source": [
    "output_csvfile='../data_plus_locations.csv'"
   ]
  },
  {
   "cell_type": "markdown",
   "metadata": {},
   "source": [
    "Write the data to that csv file"
   ]
  },
  {
   "cell_type": "markdown",
   "metadata": {},
   "source": [
    "### Write to file"
   ]
  },
  {
   "cell_type": "markdown",
   "metadata": {},
   "source": [
    "Finally, define a csv file name for the output dataframe"
   ]
  },
  {
   "cell_type": "code",
   "execution_count": null,
   "metadata": {},
   "outputs": [],
   "source": [
    "output_csvfile='../data_interpolated.csv'"
   ]
  },
  {
   "cell_type": "markdown",
   "metadata": {},
   "source": [
    "write the data to that csv file"
   ]
  },
  {
   "cell_type": "code",
   "execution_count": null,
   "metadata": {},
   "outputs": [],
   "source": [
    "df.to_csv(output_csvfile)"
   ]
  }
 ],
 "metadata": {
  "kernelspec": {
   "display_name": "Python 3",
   "language": "python",
   "name": "python3"
  },
  "language_info": {
   "codemirror_mode": {
    "name": "ipython",
    "version": 3
   },
   "file_extension": ".py",
   "mimetype": "text/x-python",
   "name": "python",
   "nbconvert_exporter": "python",
   "pygments_lexer": "ipython3",
   "version": "3.8.3"
  }
 },
 "nbformat": 4,
 "nbformat_minor": 5
}
