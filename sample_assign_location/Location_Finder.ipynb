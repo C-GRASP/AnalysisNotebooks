{
 "cells": [
  {
   "cell_type": "code",
   "execution_count": null,
   "id": "ef9a0514",
   "metadata": {},
   "outputs": [],
   "source": [
    "import pandas as pd\n",
    "import geocoder\n",
    "\n",
    "data=pd.read_csv('/data.csv')\n",
    "\n",
    "\n",
    "data[\"Location\"] = \"\"\n",
    "for i in range(0,len(data)):    \n",
    "    lat=data['latitude'].iloc[i]\n",
    "    lon=data['longitude'].iloc[i]\n",
    "    g=geocoder.osm([lat,lon], method='reverse')\n",
    "    data['Location'].iloc[i]=g.json['address']\n",
    "    \n",
    "\n"
   ]
  }
 ],
 "metadata": {
  "kernelspec": {
   "display_name": "Python 3",
   "language": "python",
   "name": "python3"
  },
  "language_info": {
   "codemirror_mode": {
    "name": "ipython",
    "version": 3
   },
   "file_extension": ".py",
   "mimetype": "text/x-python",
   "name": "python",
   "nbconvert_exporter": "python",
   "pygments_lexer": "ipython3",
   "version": "3.8.10"
  }
 },
 "nbformat": 4,
 "nbformat_minor": 5
}
