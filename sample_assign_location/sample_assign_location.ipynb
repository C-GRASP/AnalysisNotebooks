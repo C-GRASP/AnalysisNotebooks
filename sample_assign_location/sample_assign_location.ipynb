{
 "cells": [
  {
   "cell_type": "markdown",
   "id": "594671cd",
   "metadata": {},
   "source": [
    "# **Assign Location** <font>\n",
    "\n",
    "## This notebook provides simple code that assigns an address/location to samples within a dataset\n",
    "\n",
    
    "* The example script pulls data from SandSnap, but there is also an option for the user to input their own data\n",
    "* The notebook then calls in the Open Street Maps geocoder API and uses reverse geocoding to assign an address to a lat/lon location\n",
    "    \n",
    "    \n",
    "    \n",
    "## <font color=grey> *This notebooks' output is the input sample dataframe with a new  field containg the address of each sample. As the API needs to be called for each individual sample, it is recommended that the user selects data sparingly if time is a constrait as processing time may take a while depending on internet connectivity.*<font>\n",
    "\n",
    "\n",
    "\n"
   ]
  },
  {
   "cell_type": "markdown",
   "id": "d6b4f612",
   "metadata": {},
   "source": [
    "## Run these two cells  to get everything set up:"
   ]
  },
  {
   "cell_type": "code",
   "execution_count": null,
   "id": "11f37d51",
   "metadata": {},
   "outputs": [],
   "source": [
    "import pandas as pd\n",
    "import geocoder\n",
    "import requests"
   ]
  },
  {
   "cell_type": "code",
   "execution_count": null,
   "id": "d17d194c",
   "metadata": {},
   "outputs": [],
   "source": [
    "# from https://stackoverflow.com/questions/38511444/python-download-files-from-google-drive-using-url\n",
    "\n",
    "def download_file_from_google_drive(id, destination):\n",
    "    URL = \"https://docs.google.com/uc?export=download\"\n",
    "\n",
    "    session = requests.Session()\n",
    "\n",
    "    response = session.get(URL, params = { 'id' : id }, stream = True)\n",
    "    token = get_confirm_token(response)\n",
    "\n",
    "    if token:\n",
    "        params = { 'id' : id, 'confirm' : token }\n",
    "        response = session.get(URL, params = params, stream = True)\n",
    "\n",
    "    save_response_content(response, destination)    \n",
    "\n",
    "def get_confirm_token(response):\n",
    "    for key, value in response.cookies.items():\n",
    "        if key.startswith('download_warning'):\n",
    "            return value\n",
    "\n",
    "    return None\n",
    "\n",
    "def save_response_content(response, destination):\n",
    "    \"\"\"\n",
    "    response = filename for input\n",
    "    destination = filename for output\n",
    "    \"\"\"    \n",
    "    CHUNK_SIZE = 32768\n",
    "\n",
    "    with open(destination, \"wb\") as f:\n",
    "        for chunk in response.iter_content(CHUNK_SIZE):\n",
    "            if chunk: # filter out keep-alive new chunks\n",
    "                f.write(chunk)\n"
    "\n",
    "DATASET_ID = '1p_x1boL12i-Yt1Eou845vf4CbaOEEOLr'\n",
    "destination = '../data.csv'\n",
    "download_file_from_google_drive(DATASET_ID, destination)"\n",
    "df= pd.read_csv(destination)"\n",
    "
   ]
  },
  {
   "cell_type": "markdown",
   "id": "c7165038",
   "metadata": {},
   "source": [
    "## Run this cell with your own data instead of the example data by entering the filepath of a desired file. If you want to use the example data, skip it."
   ]
  },
  {
   "cell_type": "code",
   "execution_count": null,
   "id": "f50c6923",
   "metadata": {},
   "outputs": [],
   "source": [
    "#Enter full file path after equal sign\n",
    "filepath='user/your_folder/your_file.csv'\n",
    "\n",
    "\n",
    "df= pd.read_csv(filepath)"
   ]
  },
  {
   "cell_type": "markdown",
   "id": "315a577a",
   "metadata": {},
   "source": [
    "## This cell adds a new 'Location' column containing the address of each sample extracted from Open Street Maps "
   ]
  },
  {
   "cell_type": "code",
   "execution_count": null,
   "id": "3a7b3309",
   "metadata": {},
   "outputs": [
    {
     "name": "stderr",
     "output_type": "stream",
     "text": [
      "Status code Unknown from https://nominatim.openstreetmap.org/search: ERROR - ('Connection aborted.', ConnectionResetError(104, 'Connection reset by peer'))\n"
     ]
    }
   ],
   "source": [
    "#adding empty column\n",
    "df[\"Location\"] = \"\"\n",
    "\n",
    "#Loop through each sample\n",
    "count=0\n",
    "for i in range(0,len(data)):\n",
    "    try:\n",
    "        lat=df['latitude'].iloc[i]\n",
    "        lon=df['longitude'].iloc[i]\n",
    "        #This next line runs a reverse geocode on your sample lat/lons using OSM\n",
    "        g=geocoder.osm([lat,lon], method='reverse')\n",
    "        #This line extracts the address fron the queried OSM json\n",
    "        df['Location'].iloc[i]=g.json['address']\n",
    "        count=count+1\n",
    "    except:\n",
    "        pass # This skips errors for locations that are not assignable (think offshore samples etc)\n",
    " 
df.to_csv('../data.csv')\n",
    "\n",
    "    \n"
   ]
  }
 ],
 "metadata": {
  "kernelspec": {
   "display_name": "Python 3",
   "language": "python",
   "name": "python3"
  },
  "language_info": {
   "codemirror_mode": {
    "name": "ipython",
    "version": 3
   },
   "file_extension": ".py",
   "mimetype": "text/x-python",
   "name": "python",
   "nbconvert_exporter": "python",
   "pygments_lexer": "ipython3",
   "version": "3.8.10"
  }
 },
 "nbformat": 4,
 "nbformat_minor": 5
}
