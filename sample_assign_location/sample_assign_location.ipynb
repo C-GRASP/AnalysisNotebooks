{
 "cells": [
  {
   "cell_type": "markdown",
   "id": "594671cd",
   "metadata": {},
   "source": [
    "<table style=\"font-size: 1em; padding: 0; margin: 0;\">\n",
    "\n",
    "<tr style=\"vertical-align: top; padding: 0; margin: 0;background-color: #ffffff\">\n",
    "        <td style=\"vertical-align: top; padding: 0; margin: 0; padding-right: 15px;\">\n",
    "    <p style=\"background: #182AEB; color:#ffffff; text-align:justify; padding: 10px 25px;\">\n",
    "        <strong style=\"font-size: 1.0em;\"><span style=\"font-size: 1.2em;\"><span style=\"color: #ffffff;\">The Coastal Grain Size Portal (C-GRASP) dataset <br/><em>Will Speiser, Daniel Buscombe, Evan Goldstein</em></strong><br/><br/>\n",
    "        <strong>> Assign Locations to Samples </strong><br/>\n",
    "    </p>                       \n",
    "        \n",
    "<p style=\"border: 1px solid #ff5733; border-left: 15px solid #ff5733; padding: 10px; text-align:justify;\">\n",
    "    <strong style=\"color: #ff5733\">The purpose of this notebook</strong>  \n",
    "    <br/><font color=grey> This notebook will output a dataframe containing all of the data from a chosen C-GRASP dataset with a new field containing the address of each sample. As the API needs to be called for each individual sample, it is recommended that the user selects data sparingly if time is a constrait as processing time may take a while depending on internet connectivity.<font><br/>\n",
    "    <br/><font color=grey> This notebook provides simple code in order to assign an address/location name to samples within a dataset.<font><br/>    \n",
    "    <br/><font color=grey> To do so, a user can input a dataset of choice. <font><br/>\n",
    "    <br/><font color=grey> The notebook then calls in the Open Street Maps geocoder API and uses reverse geocoding to assign an address to a lat/lon location.<font><br/>    \n",
    "    </p>"
   ]
  },
  {
   "cell_type": "code",
   "execution_count": 1,
   "id": "11f37d51",
   "metadata": {},
   "outputs": [],
   "source": [
    "import pandas as pd\n",
    "import geocoder\n",
    "import requests\n",
    "import ipywidgets"
   ]
  },
  {
   "cell_type": "markdown",
   "id": "10255a1f",
   "metadata": {},
   "source": [
    "#### Select a dataset"
   ]
  },
  {
   "cell_type": "code",
   "execution_count": 2,
   "id": "1bcf5280",
   "metadata": {},
   "outputs": [
    {
     "data": {
      "application/vnd.jupyter.widget-view+json": {
       "model_id": "f45491bfab4541d19cbf9b6c56151b2c",
       "version_major": 2,
       "version_minor": 0
      },
      "text/plain": [
       "Select(description='Dataset:', options=('Entire Dataset', 'Estimated Onshore Data', 'Verified Onshore Data', '…"
      ]
     },
     "metadata": {},
     "output_type": "display_data"
    }
   ],
   "source": [
    "#Dataset collection widget\n",
    "zen=ipywidgets.Select(\n",
    "    options=['Entire Dataset', 'Estimated Onshore Data', 'Verified Onshore Data', 'Verified Onshore Post 2012 Data'],\n",
    "    value='Entire Dataset',\n",
    "    # rows=10,\n",
    "    description='Dataset:',\n",
    "    disabled=False\n",
    ")\n",
    "\n",
    "display(zen)"
   ]
  },
  {
   "cell_type": "markdown",
   "id": "05bc2416",
   "metadata": {},
   "source": [
    "#### Download that dataset"
   ]
  },
  {
   "cell_type": "code",
   "execution_count": 4,
   "id": "519e6b72",
   "metadata": {},
   "outputs": [
    {
     "name": "stdout",
     "output_type": "stream",
     "text": [
      "Downloading https://zenodo.org/record/5874231/files/Data_EstimatedOnshore.csv\n"
     ]
    }
   ],
   "source": [
    "url = 'https://zenodo.org/record/6099266/files/' \n",
    "if zen.value=='Entire Dataset':\n",
    "    filename='dataset_10kmcoast.csv'\n",
    "if zen.value=='Estimated Onshore Data':\n",
    "    filename='Data_EstimatedOnshore.csv'\n",
    "if zen.value=='Verified Onshore Data':\n",
    "    filename='Data_VerifiedOnshore.csv'\n",
    "if zen.value=='Verified Onshore Post 2012 Data':\n",
    "    filename='Data_Post2012_VerifiedOnshore.csv'\n",
    "print(\"Downloading {}\".format(url+filename))   "
   ]
  },
  {
   "cell_type": "markdown",
   "id": "6e6d4b20",
   "metadata": {},
   "source": [
    "The next cell will download the CGRASP dataset and read it in as a pandas dataframe with variable name `df`"
   ]
  },
  {
   "cell_type": "code",
   "execution_count": 5,
   "id": "67bfbb72",
   "metadata": {},
   "outputs": [
    {
     "name": "stdout",
     "output_type": "stream",
     "text": [
      "Retrieving Data, Please Wait\n",
      "Sediment Data Retrieved!\n"
     ]
    },
    {
     "name": "stderr",
     "output_type": "stream",
     "text": [
      "C:\\Users\\dbuscombe\\Anaconda3\\envs\\cgrasp\\lib\\site-packages\\IPython\\core\\interactiveshell.py:3457: DtypeWarning: Columns (7,12) have mixed types.Specify dtype option on import or set low_memory=False.\n",
      "  exec(code_obj, self.user_global_ns, self.user_ns)\n"
     ]
    }
   ],
   "source": [
    "url=(url+filename)\n",
    "print('Retrieving Data, Please Wait')\n",
    "#retrieve data\n",
    "df=pd.read_csv(url)\n",
    "print('Sediment Data Retrieved!') "
   ]
  },
  {
   "cell_type": "markdown",
   "id": "9eac4003",
   "metadata": {},
   "source": [
    "Let's take a quick look at the top of the file"
   ]
  },
  {
   "cell_type": "code",
   "execution_count": 6,
   "id": "0d7fe87c",
   "metadata": {},
   "outputs": [
    {
     "data": {
      "text/html": [
       "<div>\n",
       "<style scoped>\n",
       "    .dataframe tbody tr th:only-of-type {\n",
       "        vertical-align: middle;\n",
       "    }\n",
       "\n",
       "    .dataframe tbody tr th {\n",
       "        vertical-align: top;\n",
       "    }\n",
       "\n",
       "    .dataframe thead th {\n",
       "        text-align: right;\n",
       "    }\n",
       "</style>\n",
       "<table border=\"1\" class=\"dataframe\">\n",
       "  <thead>\n",
       "    <tr style=\"text-align: right;\">\n",
       "      <th></th>\n",
       "      <th>Unnamed: 0</th>\n",
       "      <th>Unnamed: 0.1</th>\n",
       "      <th>Sample_ID</th>\n",
       "      <th>Sample_Type_Code</th>\n",
       "      <th>Project</th>\n",
       "      <th>dataset</th>\n",
       "      <th>Date</th>\n",
       "      <th>Location_Type</th>\n",
       "      <th>latitude</th>\n",
       "      <th>longitude</th>\n",
       "      <th>...</th>\n",
       "      <th>d25</th>\n",
       "      <th>d30</th>\n",
       "      <th>d50</th>\n",
       "      <th>d65</th>\n",
       "      <th>d75</th>\n",
       "      <th>d84</th>\n",
       "      <th>d90</th>\n",
       "      <th>d95</th>\n",
       "      <th>Notes</th>\n",
       "      <th>unique_id</th>\n",
       "    </tr>\n",
       "  </thead>\n",
       "  <tbody>\n",
       "    <tr>\n",
       "      <th>0</th>\n",
       "      <td>610</td>\n",
       "      <td>610</td>\n",
       "      <td>SPIbeach5</td>\n",
       "      <td>1.0</td>\n",
       "      <td>SandSnap, image taken by:</td>\n",
       "      <td>sandsnap</td>\n",
       "      <td>2021-11-08</td>\n",
       "      <td>Beach?Y</td>\n",
       "      <td>26.12871</td>\n",
       "      <td>-97.16718</td>\n",
       "      <td>...</td>\n",
       "      <td>0.624976</td>\n",
       "      <td>0.657068</td>\n",
       "      <td>0.785439</td>\n",
       "      <td>0.889342</td>\n",
       "      <td>1.016927</td>\n",
       "      <td>1.131754</td>\n",
       "      <td>1.276942</td>\n",
       "      <td>1.397932</td>\n",
       "      <td>NaN</td>\n",
       "      <td>NaN</td>\n",
       "    </tr>\n",
       "    <tr>\n",
       "      <th>1</th>\n",
       "      <td>611</td>\n",
       "      <td>611</td>\n",
       "      <td>SPI6</td>\n",
       "      <td>1.0</td>\n",
       "      <td>SandSnap, image taken by:</td>\n",
       "      <td>sandsnap</td>\n",
       "      <td>2021-11-08</td>\n",
       "      <td>Beach?Y</td>\n",
       "      <td>26.12899</td>\n",
       "      <td>-97.16713</td>\n",
       "      <td>...</td>\n",
       "      <td>0.624976</td>\n",
       "      <td>0.657068</td>\n",
       "      <td>0.785439</td>\n",
       "      <td>0.889342</td>\n",
       "      <td>1.016927</td>\n",
       "      <td>1.131754</td>\n",
       "      <td>1.276942</td>\n",
       "      <td>1.397932</td>\n",
       "      <td>NaN</td>\n",
       "      <td>NaN</td>\n",
       "    </tr>\n",
       "    <tr>\n",
       "      <th>2</th>\n",
       "      <td>612</td>\n",
       "      <td>612</td>\n",
       "      <td>SPI6</td>\n",
       "      <td>1.0</td>\n",
       "      <td>SandSnap, image taken by:</td>\n",
       "      <td>sandsnap</td>\n",
       "      <td>2021-11-08</td>\n",
       "      <td>Beach?Y</td>\n",
       "      <td>26.12899</td>\n",
       "      <td>-97.16713</td>\n",
       "      <td>...</td>\n",
       "      <td>0.624976</td>\n",
       "      <td>0.657068</td>\n",
       "      <td>0.785439</td>\n",
       "      <td>0.889342</td>\n",
       "      <td>1.016927</td>\n",
       "      <td>1.131754</td>\n",
       "      <td>1.276942</td>\n",
       "      <td>1.397932</td>\n",
       "      <td>NaN</td>\n",
       "      <td>NaN</td>\n",
       "    </tr>\n",
       "    <tr>\n",
       "      <th>3</th>\n",
       "      <td>853</td>\n",
       "      <td>853</td>\n",
       "      <td>SPIbeach4</td>\n",
       "      <td>1.0</td>\n",
       "      <td>SandSnap, image taken by:</td>\n",
       "      <td>sandsnap</td>\n",
       "      <td>2021-11-08</td>\n",
       "      <td>Beach?Y</td>\n",
       "      <td>26.16883</td>\n",
       "      <td>-97.17248</td>\n",
       "      <td>...</td>\n",
       "      <td>0.624976</td>\n",
       "      <td>0.657068</td>\n",
       "      <td>0.785439</td>\n",
       "      <td>0.889342</td>\n",
       "      <td>1.016927</td>\n",
       "      <td>1.131754</td>\n",
       "      <td>1.276942</td>\n",
       "      <td>1.397932</td>\n",
       "      <td>NaN</td>\n",
       "      <td>NaN</td>\n",
       "    </tr>\n",
       "    <tr>\n",
       "      <th>4</th>\n",
       "      <td>854</td>\n",
       "      <td>854</td>\n",
       "      <td>SPIbeach3</td>\n",
       "      <td>1.0</td>\n",
       "      <td>SandSnap, image taken by:</td>\n",
       "      <td>sandsnap</td>\n",
       "      <td>2021-11-08</td>\n",
       "      <td>Beach?Y</td>\n",
       "      <td>26.16885</td>\n",
       "      <td>-97.17284</td>\n",
       "      <td>...</td>\n",
       "      <td>0.624976</td>\n",
       "      <td>0.657068</td>\n",
       "      <td>0.785439</td>\n",
       "      <td>0.889342</td>\n",
       "      <td>1.016927</td>\n",
       "      <td>1.131754</td>\n",
       "      <td>1.276942</td>\n",
       "      <td>1.397932</td>\n",
       "      <td>NaN</td>\n",
       "      <td>NaN</td>\n",
       "    </tr>\n",
       "  </tbody>\n",
       "</table>\n",
       "<p>5 rows × 36 columns</p>\n",
       "</div>"
      ],
      "text/plain": [
       "   Unnamed: 0  Unnamed: 0.1  Sample_ID  Sample_Type_Code  \\\n",
       "0         610           610  SPIbeach5               1.0   \n",
       "1         611           611       SPI6               1.0   \n",
       "2         612           612       SPI6               1.0   \n",
       "3         853           853  SPIbeach4               1.0   \n",
       "4         854           854  SPIbeach3               1.0   \n",
       "\n",
       "                      Project   dataset        Date Location_Type  latitude  \\\n",
       "0  SandSnap, image taken by:   sandsnap  2021-11-08       Beach?Y  26.12871   \n",
       "1  SandSnap, image taken by:   sandsnap  2021-11-08       Beach?Y  26.12899   \n",
       "2  SandSnap, image taken by:   sandsnap  2021-11-08       Beach?Y  26.12899   \n",
       "3  SandSnap, image taken by:   sandsnap  2021-11-08       Beach?Y  26.16883   \n",
       "4  SandSnap, image taken by:   sandsnap  2021-11-08       Beach?Y  26.16885   \n",
       "\n",
       "   longitude  ...       d25       d30       d50       d65       d75       d84  \\\n",
       "0  -97.16718  ...  0.624976  0.657068  0.785439  0.889342  1.016927  1.131754   \n",
       "1  -97.16713  ...  0.624976  0.657068  0.785439  0.889342  1.016927  1.131754   \n",
       "2  -97.16713  ...  0.624976  0.657068  0.785439  0.889342  1.016927  1.131754   \n",
       "3  -97.17248  ...  0.624976  0.657068  0.785439  0.889342  1.016927  1.131754   \n",
       "4  -97.17284  ...  0.624976  0.657068  0.785439  0.889342  1.016927  1.131754   \n",
       "\n",
       "        d90       d95 Notes  unique_id  \n",
       "0  1.276942  1.397932   NaN        NaN  \n",
       "1  1.276942  1.397932   NaN        NaN  \n",
       "2  1.276942  1.397932   NaN        NaN  \n",
       "3  1.276942  1.397932   NaN        NaN  \n",
       "4  1.276942  1.397932   NaN        NaN  \n",
       "\n",
       "[5 rows x 36 columns]"
      ]
     },
     "execution_count": 6,
     "metadata": {},
     "output_type": "execute_result"
    }
   ],
   "source": [
    "df.head()"
   ]
  },
  {
   "cell_type": "markdown",
   "id": "315a577a",
   "metadata": {},
   "source": [
    "### Add location field\n",
    " \n",
    "This cell adds a new 'Location' column containing the address of each sample extracted from Open Street Maps "
   ]
  },
  {
   "cell_type": "code",
   "execution_count": null,
   "id": "3a7b3309",
   "metadata": {},
   "outputs": [
    {
     "name": "stderr",
     "output_type": "stream",
     "text": [
      "C:\\Users\\dbuscombe\\Anaconda3\\envs\\cgrasp\\lib\\site-packages\\pandas\\core\\indexing.py:1732: SettingWithCopyWarning: \n",
      "A value is trying to be set on a copy of a slice from a DataFrame\n",
      "\n",
      "See the caveats in the documentation: https://pandas.pydata.org/pandas-docs/stable/user_guide/indexing.html#returning-a-view-versus-a-copy\n",
      "  self._setitem_single_block(indexer, value, name)\n"
     ]
    }
   ],
   "source": [
    "#adding empty column\n",
    "df[\"Location\"] = \"\"\n",
    "\n",
    "#Loop through each sample\n",
    "count=0\n",
    "for i in range(0,len(df)):\n",
    "    try:\n",
    "        lat=df['latitude'].iloc[i]\n",
    "        lon=df['longitude'].iloc[i]\n",
    "        #This next line runs a reverse geocode on your sample lat/lons using OSM\n",
    "        g=geocoder.osm([lat,lon], method='reverse')\n",
    "        #This line extracts the address fron the queried OSM json\n",
    "        df['Location'].iloc[i]=g.json['address']\n",
    "        count=count+1\n",
    "    except:\n",
    "        pass # This skips errors for locations that are not assignable (think offshore samples etc)\n"
   ]
  },
  {
   "cell_type": "markdown",
   "id": "b24df030",
   "metadata": {},
   "source": [
    "Let's view those locations"
   ]
  },
  {
   "cell_type": "code",
   "execution_count": null,
   "id": "bd579cae",
   "metadata": {},
   "outputs": [],
   "source": [
    "df['Location']"
   ]
  },
  {
   "cell_type": "markdown",
   "id": "ddd6aaed",
   "metadata": {},
   "source": [
    "### Write to file"
   ]
  },
  {
   "cell_type": "markdown",
   "id": "f6c19813",
   "metadata": {},
   "source": [
    "Finally, define a csv file name for the output dataframe"
   ]
  },
  {
   "cell_type": "code",
   "execution_count": null,
   "id": "9a8ba194",
   "metadata": {},
   "outputs": [],
   "source": [
    "output_csvfile='../data_plus_locations.csv'"
   ]
  },
  {
   "cell_type": "markdown",
   "id": "e2d5bd40",
   "metadata": {},
   "source": [
    "write the data to that csv file"
   ]
  },
  {
   "cell_type": "code",
   "execution_count": null,
   "id": "93b91d17",
   "metadata": {},
   "outputs": [],
   "source": [
    "df.to_csv(output_csvfile)"
   ]
  },
  {
   "cell_type": "code",
   "execution_count": null,
   "id": "b1ee6adc",
   "metadata": {},
   "outputs": [],
   "source": []
  }
 ],
 "metadata": {
  "kernelspec": {
   "display_name": "Python 3 (ipykernel)",
   "language": "python",
   "name": "python3"
  },
  "language_info": {
   "codemirror_mode": {
    "name": "ipython",
    "version": 3
   },
   "file_extension": ".py",
   "mimetype": "text/x-python",
   "name": "python",
   "nbconvert_exporter": "python",
   "pygments_lexer": "ipython3",
   "version": "3.10.2"
  }
 },
 "nbformat": 4,
 "nbformat_minor": 5
}
