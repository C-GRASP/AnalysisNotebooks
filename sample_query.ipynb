{
 "cells": [
  {
   "cell_type": "code",
   "execution_count": 35,
   "id": "7da2d28c",
   "metadata": {},
   "outputs": [
    {
     "data": {
      "application/vnd.jupyter.widget-view+json": {
       "model_id": "5985bf9769e84f88835c593074d9dfe3",
       "version_major": 2,
       "version_minor": 0
      },
      "text/plain": [
       "Select(description='Satellite:', options=('Entire Coastal Dataset', 'Estimated Onshore Dataset', 'Verified Ons…"
      ]
     },
     "metadata": {},
     "output_type": "display_data"
    },
    {
     "name": "stdout",
     "output_type": "stream",
     "text": [
      "Enter Year Range of Interest Interest Below:\n"
     ]
    },
    {
     "data": {
      "application/vnd.jupyter.widget-view+json": {
       "model_id": "1b807cc0d18149d9aa7ff76dbb0c6c6f",
       "version_major": 2,
       "version_minor": 0
      },
      "text/plain": [
       "Text(value='yyyy', description='Start Year:', placeholder='Type something')"
      ]
     },
     "metadata": {},
     "output_type": "display_data"
    },
    {
     "data": {
      "application/vnd.jupyter.widget-view+json": {
       "model_id": "4aea4bf256c547f1b19ae3e193a84c4f",
       "version_major": 2,
       "version_minor": 0
      },
      "text/plain": [
       "Text(value='yyyy', description='End Year:', placeholder='Type something')"
      ]
     },
     "metadata": {},
     "output_type": "display_data"
    }
   ],
   "source": [
    "import ipyleaflet\n",
    "import ogr, os\n",
    "import pandas as pd\n",
    "import geopandas as gpd\n",
    "import shapefile\n",
    "import json \n",
    "from ipyleaflet import (\n",
    "    Map,\n",
    "    Marker,\n",
    "    TileLayer, ImageOverlay,\n",
    "    Polyline, Polygon, Rectangle, Circle, CircleMarker,\n",
    "    GeoJSON,\n",
    "    DrawControl, basemaps, basemap_to_tiles, GeoData\n",
    ")\n",
    "\n",
    "import pyproj\n",
    "from shapely.ops import transform\n",
    "from shapely.geometry import Polygon\n",
    "from urllib.request import urlopen\n",
    "from io import BytesIO\n",
    "from zipfile import ZipFile\n",
    "\n",
    "from IPython.html import widgets\n",
    "from IPython.display import display\n",
    "import osmnx as ox\n",
    "from tkinter import filedialog\n",
    "from tkinter import *\n",
    "import time\n",
    "from shapely.geometry import mapping, shape\n",
    "from shapely.geometry import box as shBox\n",
    "import fiona\n",
    "import numpy as np\n",
    "import rasterio\n",
    "import gdal\n",
    "import urllib.request\n",
    "import folium\n",
    "from folium.plugins import Draw\n",
    "\n",
    "\n",
    "\n",
    "zen=widgets.Select(\n",
    "    options=['Entire Coastal Dataset', 'Estimated Onshore Dataset', 'Verified Onshore Dataset'],\n",
    "    value='Entire Coastal Dataset',\n",
    "    # rows=10,\n",
    "    description='Satellite:',\n",
    "    disabled=False\n",
    ")\n",
    "\n",
    "display(zen)\n",
    "\n",
    "\n",
    "print('Enter Year Range of Interest Interest Below:')\n",
    "\n",
    "\n",
    "y0=widgets.Text(\n",
    "    value='yyyy',\n",
    "    placeholder='Type something',\n",
    "    description='Start Year:',\n",
    "    disabled=False\n",
    ")\n",
    "\n",
    "display(y0)\n",
    "\n",
    "y1=widgets.Text(\n",
    "    value='yyyy',\n",
    "    placeholder='Type something',\n",
    "    description='End Year:',\n",
    "    disabled=False\n",
    ")\n",
    "\n",
    "display(y1)\n",
    "\n"
   ]
  },
  {
   "cell_type": "code",
   "execution_count": 36,
   "id": "3f35f685",
   "metadata": {},
   "outputs": [
    {
     "name": "stdout",
     "output_type": "stream",
     "text": [
      "Retrieving Data, Please Wait\n",
      "Data Retrieved! Now Subsetting to Year\n",
      "\n",
      "Done. 1592 samples available from dates below map\n",
      "\n",
      "Draw Spatial Query Below\n"
     ]
    },
    {
     "data": {
      "application/vnd.jupyter.widget-view+json": {
       "model_id": "0d817227286341c08e23f157f4dfcdd8",
       "version_major": 2,
       "version_minor": 0
      },
      "text/plain": [
       "Map(center=[35, -75], controls=(ZoomControl(options=['position', 'zoom_in_text', 'zoom_in_title', 'zoom_out_te…"
      ]
     },
     "metadata": {},
     "output_type": "display_data"
    },
    {
     "data": {
      "image/png": "[encoded data removed]",
      "text/plain": [
       "<Figure size 1440x216 with 1 Axes>"
      ]
     },
     "metadata": {
      "needs_background": "light"
     },
     "output_type": "display_data"
    },
    {
     "name": "stdout",
     "output_type": "stream",
     "text": [
      "created\n",
      "{'type': 'Feature', 'properties': {'style': {'stroke': True, 'color': '#0000FF', 'weight': 4, 'opacity': 0.5, 'fill': True, 'fillColor': None, 'fillOpacity': 0.2, 'clickable': True}}, 'geometry': {'type': 'Polygon', 'coordinates': [[[-81.664764, 30.925789], [-81.664764, 31.44741], [-80.956098, 31.44741], [-80.956098, 30.925789], [-81.664764, 30.925789]]]}}\n"
     ]
    }
   ],
   "source": [
    "if float(y1.value)-float(y0.value)<0:\n",
    "    print('Error! End Date Proceeds Start Date!')\n",
    "    \n",
    "else:\n",
    "    url = 'https://zenodo.org/record/5874231/files/'\n",
    "    if zen.value=='Entire Coastal Dataset':\n",
    "        filename='dataset_10kmcoast.csv'\n",
    "    if zen.value=='Estimated Onshore Dataset':\n",
    "        filename='Data_EstimatedOnshore.csv'\n",
    "    if zen.value=='Verified Onshore Dataset':\n",
    "        filename='Data_VerifiedOnshore.csv'\n",
    "\n",
    "    url=(url+filename)\n",
    "    print('Retrieving Data, Please Wait')\n",
    "    #retrieve data\n",
    "    df=pd.read_csv(url)\n",
    "    print('Data Retrieved! Now Subsetting to Year')\n",
    "    #subset by lower years\n",
    "    df['Date'] = pd.to_datetime(df['Date'])\n",
    "    df['year'] = df['Date'].dt.year\n",
    "    df=df.loc[df.year>=float(y0.value), :]\n",
    "    df=df.loc[df.year<=float(y1.value), :]\n",
    "\n",
    "    df = pd.DataFrame(df.drop(columns='year'))\n",
    "\n",
    "    if float(y1.value)-float(y0.value)>0:\n",
    "        print()\n",
    "        print('Done. '+str(len(df))+' samples available from dates below map')\n",
    "        df=df[df['Date'].astype(\"datetime64\").dt.year<2060] #remove any data with typos from source data\n",
    "        #print statistics\n",
    "        df['Mean'].groupby(df['Date'].astype(\"datetime64\").dt.year).count().plot(kind=\"bar\",figsize=(20,3))\n",
    "        print()\n",
    "        print('Draw Spatial Query Below')\n",
    "    else:\n",
    "        print('Done. '+str(len(df))+' samples available')\n",
    "        print('Draw Spatial Query Below')\n",
    "\n",
    "#make map with geodataframe\n",
    "gdf = gpd.GeoDataFrame(df, geometry=gpd.points_from_xy(df.longitude, df.latitude))\n",
    "gdf['Date'] = gdf['Date'].astype(str)\n",
    "\n",
    "gdf= GeoData(geo_dataframe = gdf)\n",
    "watercolor = basemap_to_tiles(basemaps.Esri.WorldImagery, crs='espg:4326')\n",
    "\n",
    "m = Map(layers=(watercolor, ), center=(35,-75 ), zoom=4)\n",
    "\n",
    "m.add_layer(gdf)\n",
    "\n",
    "\n",
    "#Add draw tool\n",
    "\n",
    "dc = DrawControl(marker={'shapeOptions': {'color': '#0000FF'}},\n",
    "                 rectangle={'shapeOptions': {'color': '#0000FF'}},\n",
    "                 circle={'shapeOptions': {'color': '#0000FF'}},\n",
    "                 circlemarker={},\n",
    "                 )\n",
    "def handle_draw(target, action, geo_json):\n",
    "    print(action)\n",
    "    print(geo_json)\n",
    "\n",
    "dc.on_draw(handle_draw)\n",
    "m.add_control(dc)\n",
    "    \n",
    "\n",
    "    \n",
    "m"
   ]
  },
  {
   "cell_type": "code",
   "execution_count": 37,
   "id": "c1d59c3f",
   "metadata": {
    "scrolled": true
   },
   "outputs": [
    {
     "name": "stdout",
     "output_type": "stream",
     "text": [
      "98 samples downloaded from dates:\n"
     ]
    },
    {
     "data": {
      "image/png": "[encoded data removed]",
      "text/plain": [
       "<Figure size 1440x216 with 1 Axes>"
      ]
     },
     "metadata": {
      "needs_background": "light"
     },
     "output_type": "display_data"
    }
   ],
   "source": [
    "#This extracts the polygon drawn in the above map\n",
    "bounds= (dc.last_draw).get(\"geometry\").get(\"coordinates\")[0]\n",
    "bounds_poly=Polygon(bounds)\n",
    "bounds_gpd=gpd.GeoDataFrame(geometry=[bounds_poly])\n",
    "polygon=bounds_gpd.set_crs('EPSG:4326')\n",
    "#These lines turn your dataset into a geodataframe and extract points within the polygon\n",
    "df=gdf = gpd.GeoDataFrame(df, geometry=gpd.points_from_xy(df.longitude, df.latitude))\n",
    "df=df.set_crs('EPSG:4326')\n",
    "df=gpd.clip(df, polygon)\n",
    "df=pd.DataFrame(df)\n",
    "#Download to file\n",
    "df.to_csv('../data.csv')\n",
    "#Print date statistics if more than one year of data\n",
    "if float(y1.value)-float(y0.value)>0:\n",
    "    print(str(len(df))+' samples downloaded from dates:')\n",
    "    df['Mean'].groupby(df['Date'].astype(\"datetime64\").dt.year).count().plot(kind=\"bar\",figsize=(20,3))\n",
    "#Print length statistics if one year of data\n",
    "else:\n",
    "    print(str(len(df)) +'samples downloaded')\n",
    "\n"
   ]
  }
 ],
 "metadata": {
  "kernelspec": {
   "display_name": "Python 3",
   "language": "python",
   "name": "python3"
  },
  "language_info": {
   "codemirror_mode": {
    "name": "ipython",
    "version": 3
   },
   "file_extension": ".py",
   "mimetype": "text/x-python",
   "name": "python",
   "nbconvert_exporter": "python",
   "pygments_lexer": "ipython3",
   "version": "3.8.10"
  }
 },
 "nbformat": 4,
 "nbformat_minor": 5
}
