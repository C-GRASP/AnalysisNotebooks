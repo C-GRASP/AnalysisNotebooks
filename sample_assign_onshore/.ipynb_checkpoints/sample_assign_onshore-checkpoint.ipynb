{
 "cells": [
  {
   "cell_type": "markdown",
   "id": "f93b0ca4",
   "metadata": {},
   "source": [
    "<table style=\"font-size: 1em; padding: 0; margin: 0;\">\n",
    "\n",
    "<tr style=\"vertical-align: top; padding: 0; margin: 0;background-color: #ffffff\">\n",
    "        <td style=\"vertical-align: top; padding: 0; margin: 0; padding-right: 15px;\">\n",
    "    <p style=\"background: #182AEB; color:#ffffff; text-align:justify; padding: 10px 25px;\">\n",
    "        <strong style=\"font-size: 1.0em;\"><span style=\"font-size: 1.2em;\"><span style=\"color: #ffffff;\">The Coastal Grain Size Portal (C-GRASP) dataset <br/><em>Will Speiser, Daniel Buscombe, and Evan Goldstein</em></strong><br/><br/>\n",
    "        <strong>> Categorize Sample Locations as Onshore or Offshore </strong><br/>\n",
    "    </p>                       \n",
    "        \n",
    "<p style=\"border: 1px solid #ff5733; border-left: 15px solid #ff5733; padding: 10px; text-align:justify;\">\n",
    "    <strong style=\"color: #ff5733\">The purpose of this notebook</strong>  \n",
    "    <br/><font color=grey> This notebook will determine whether samples in a chosen C-GRASP dataset are onshore or offshore.<font><br/>\n",
    "    <br/><font color=grey> This notebook provides simple code in order to assign an onshore/offshore distinction to samples within a chosen dataset.<font><br/>    \n",
    "    <br/><font color=grey> The notebook then uses the Natural Earth Data shoreline vector dataset to determine if the sample is landward or seaward of that line.<font><br/>    \n",
    "    </p>"
   ]
  },
  {
   "cell_type": "code",
   "execution_count": null,
   "id": "8931921a",
   "metadata": {},
   "outputs": [],
   "source": [
    "import os\n",
    "import pandas as pd\n",
    "import geopandas as gpd\n",
    "import json \n",
    "import ipywidgets\n",
    "from cartopy.feature import NaturalEarthFeature\n",
    "import cartopy.io.shapereader as shpreader\n",
    "import numpy as np"
   ]
  },
  {
   "cell_type": "markdown",
   "id": "e17981d1",
   "metadata": {},
   "source": [
    "#### Choose a dataset"
   ]
  },
  {
   "cell_type": "code",
   "execution_count": null,
   "id": "40d2a03d",
   "metadata": {},
   "outputs": [],
   "source": [
    "#Dataset collection widget\n",
    "zen=ipywidgets.Select(\n",
    "    options=['Entire Dataset', 'Estimated Onshore Data', 'Verified Onshore Data', 'Verified Onshore Post 2012 Data'],\n",
    "    value='Entire Dataset',\n",
    "    # rows=10,\n",
    "    description='Dataset:',\n",
    "    disabled=False\n",
    ")\n",
    "\n",
    "display(zen)"
   ]
  },
  {
   "cell_type": "markdown",
   "id": "04a60426",
   "metadata": {},
   "source": [
    "#### Download chosen dataset"
   ]
  },
  {
   "cell_type": "code",
   "execution_count": null,
   "id": "58e1fb66",
   "metadata": {},
   "outputs": [],
   "source": [
    "url = 'https://zenodo.org/record/5874231/files/' \n",
    "if zen.value=='Entire Dataset':\n",
    "    filename='dataset_10kmcoast.csv'\n",
    "if zen.value=='Estimated Onshore Data':\n",
    "    filename='Data_EstimatedOnshore.csv'\n",
    "if zen.value=='Verified Onshore Data':\n",
    "    filename='Data_VerifiedOnshore.csv'\n",
    "if zen.value=='Verified Onshore Post 2012 Data':\n",
    "    filename='Data_Post2012_VerifiedOnshore.csv'\n",
    "    \n",
    "print(\"Downloading {}\".format(url+filename))   "
   ]
  },
  {
   "cell_type": "code",
   "execution_count": null,
   "id": "6efb7e36",
   "metadata": {},
   "outputs": [],
   "source": [
    "url=(url+filename)\n",
    "print('Retrieving Data, Please Wait')\n",
    "#retrieve data\n",
    "df=pd.read_csv(url)\n",
    "print('Sediment Data Retrieved!') \n",
    "gdf=gpd.GeoDataFrame(df,geometry=gpd.points_from_xy(df.longitude, df.latitude))\n",
    "gdf=gdf.set_crs(epsg=4326)\n",
    "print('Sediment Data Converted to a GeoDataFrame, Next cell retrieves Natural Earth Data')"
   ]
  },
  {
   "cell_type": "markdown",
   "id": "d63bb75d",
   "metadata": {},
   "source": [
    "#### Download shoreline vector data"
   ]
  },
  {
   "cell_type": "code",
   "execution_count": null,
   "id": "6fe9dbd9",
   "metadata": {},
   "outputs": [],
   "source": [
    "land = shpreader.natural_earth(resolution='10m',category='physical', name='land')\n",
    "land=gpd.read_file(land)\n",
    "\n",
    "print('Natural Earth Data retrieved and converted to a GeoDataFrame')"
   ]
  },
  {
   "cell_type": "markdown",
   "id": "fc86533a",
   "metadata": {},
   "source": [
    "Define the bounds of the U.S. Atlantic coast "
   ]
  },
  {
   "cell_type": "code",
   "execution_count": null,
   "id": "d2512dea",
   "metadata": {},
   "outputs": [],
   "source": [
    "#Define Bounds for the East Coast to Clip US Coastal Poly\n",
    "eastcoast=json.loads((\"\"\"\n",
    "     {\"type\": \"FeatureCollection\", \"features\": [{\n",
    "      \"type\": \"Feature\",\n",
    "      \"properties\": {},\n",
    "      \"geometry\": {\n",
    "        \"type\": \"Polygon\",\n",
    "        \"coordinates\": [\n",
    "          [\n",
    "            [\n",
    "              -97.294921875,\n",
    "              24.766784522874453\n",
    "            ],\n",
    "            [\n",
    "              -94.130859375,\n",
    "              22.51255695405145\n",
    "            ],\n",
    "            [\n",
    "              -86.30859375,\n",
    "              21.94304553343818\n",
    "            ],\n",
    "            [\n",
    "              -80.244140625,\n",
    "              16.130262012034756\n",
    "            ],\n",
    "            [\n",
    "              -65.0390625,\n",
    "              15.792253570362446\n",
    "            ],\n",
    "            [\n",
    "              -66.610107421875,\n",
    "              44.66083904265621\n",
    "            ],\n",
    "            [\n",
    "              -66.7694091796875,\n",
    "              44.8500274926005\n",
    "            ],\n",
    "            [\n",
    "              -66.8902587890625,\n",
    "              44.779885502772736\n",
    "            ],\n",
    "            [\n",
    "              -67.5,\n",
    "              47.69497434186282\n",
    "            ],\n",
    "            [\n",
    "              -69.60937499999999,\n",
    "              47.754097979680026\n",
    "            ],\n",
    "            [\n",
    "              -71.630859375,\n",
    "              45.521743896993634\n",
    "            ],\n",
    "            [\n",
    "              -101.25,\n",
    "              30.221101852485987\n",
    "            ],\n",
    "            [\n",
    "              -97.294921875,\n",
    "              24.766784522874453\n",
    "            ]\n",
    "          ]\n",
    "        ]\n",
    "      }\n",
    "    }]}\n",
    "\"\"\"))\n"
   ]
  },
  {
   "cell_type": "markdown",
   "id": "fca39ad4",
   "metadata": {},
   "source": [
    "#### Clip data to the shoreline"
   ]
  },
  {
   "cell_type": "code",
   "execution_count": null,
   "id": "206c47de",
   "metadata": {},
   "outputs": [],
   "source": [
    "eastcoast = gpd.GeoDataFrame.from_features(eastcoast) #convert east coast json to geoadataframe\n",
    "eastcoast=eastcoast.set_crs(epsg=4326) \n",
    "eastcoast_bounds=gpd.clip(land, eastcoast) #clip natural earth data to east coat\n",
    "eastcoast = eastcoast.reset_index(drop=True)\n",
    "gdf = gdf.reset_index(drop=True)\n",
    "gdf=gpd.clip(gdf, eastcoast_bounds)#clip sediment data to east coast bounded Natural Earth Data"
   ]
  },
  {
   "cell_type": "markdown",
   "id": "3ae9e2ac",
   "metadata": {},
   "source": [
    "#### Create new dataframe from clipped dataframe"
   ]
  },
  {
   "cell_type": "code",
   "execution_count": null,
   "id": "644ac683",
   "metadata": {},
   "outputs": [],
   "source": [
    "df_os=pd.DataFrame(gdf) #convert geodataframe of onshore samples to pandas dataframe\n",
    "df_os['Onshore']='y' #indicate onshore\n",
    "df_os=df_os[['Unnamed: 0','Onshore']].copy() #isolate dataframe to just sample id and shore indication\n",
    "\n",
    "df1=pd.merge(df,df_os, on='Unnamed: 0', how='left')#merge onshore indication with the overall dataset\n",
    "df1['Onshore']=df1['Onshore'].fillna('n') #mark samples not indicated onshore with n\n"
   ]
  },
  {
   "cell_type": "markdown",
   "id": "251f16fa",
   "metadata": {},
   "source": [
    "#### View the data"
   ]
  },
  {
   "cell_type": "markdown",
   "id": "92f5c635",
   "metadata": {},
   "source": [
    "view the first few records"
   ]
  },
  {
   "cell_type": "code",
   "execution_count": null,
   "id": "ee40d517",
   "metadata": {},
   "outputs": [],
   "source": [
    "df1['Onshore'].head()"
   ]
  },
  {
   "cell_type": "markdown",
   "id": "0fe74c15",
   "metadata": {},
   "source": [
    "View the last few lines"
   ]
  },
  {
   "cell_type": "code",
   "execution_count": null,
   "id": "3511177b",
   "metadata": {},
   "outputs": [],
   "source": [
    "df1['Onshore'].tail()"
   ]
  },
  {
   "cell_type": "markdown",
   "id": "c68094ab",
   "metadata": {},
   "source": [
    "### Output to file"
   ]
  },
  {
   "cell_type": "markdown",
   "id": "dde6db24",
   "metadata": {},
   "source": [
    "Finally, define a csv file name for the output dataframe"
   ]
  },
  {
   "cell_type": "code",
   "execution_count": null,
   "id": "1171c9e2",
   "metadata": {},
   "outputs": [],
   "source": [
    "output_csvfile='../data_plus_onshore_offshore.csv'"
   ]
  },
  {
   "cell_type": "markdown",
   "id": "91fb5aab",
   "metadata": {},
   "source": [
    "write the data to that csv file"
   ]
  },
  {
   "cell_type": "code",
   "execution_count": null,
   "id": "e22ac411",
   "metadata": {},
   "outputs": [],
   "source": [
    "df1.to_csv(output_csvfile) #convert data to CSV"
   ]
  },
  {
   "cell_type": "code",
   "execution_count": null,
   "id": "2678acef",
   "metadata": {},
   "outputs": [],
   "source": []
  }
 ],
 "metadata": {
  "kernelspec": {
   "display_name": "Python 3 (ipykernel)",
   "language": "python",
   "name": "python3"
  },
  "language_info": {
   "codemirror_mode": {
    "name": "ipython",
    "version": 3
   },
   "file_extension": ".py",
   "mimetype": "text/x-python",
   "name": "python",
   "nbconvert_exporter": "python",
   "pygments_lexer": "ipython3",
   "version": "3.10.2"
  }
 },
 "nbformat": 4,
 "nbformat_minor": 5
}
