{
 "cells": [
  {
   "cell_type": "markdown",
   "id": "50c5808a",
   "metadata": {},
   "source": [
    "## Assign an elevation and water depth to a C-GRASP grain size record\n",
    "\n",
    "By Dan Buscombe, Marda Science / USGS"
   ]
  },
  {
   "cell_type": "markdown",
   "id": "7af92ef9",
   "metadata": {},
   "source": [
    "#### Part 1: Acquiring Topobathy data for CONED (Continental United States)"
   ]
  },
  {
   "cell_type": "markdown",
   "id": "01d218bb",
   "metadata": {},
   "source": [
    "First, you need to download the Continuously Updated Digital Elevation Model (CUDEM) - 1/9 Arc-Second Resolution Bathymetric-Topographic Tiles from [NCEI](https://www.ncei.noaa.gov/metadata/geoportal/rest/metadata/item/gov.noaa.ngdc.mgg.dem:999919/html)\n",
    "\n",
    "The simple BASH script below is designed to run on a UNIX (Mac or Linux) environment but amy also work on Windows and Windows Subsystem for Linux"
   ]
  },
  {
   "cell_type": "code",
   "execution_count": 2,
   "id": "73f4ab05",
   "metadata": {},
   "outputs": [],
   "source": [
    "#!bash download_all_NCEI_cudems.sh"
   ]
  },
  {
   "cell_type": "markdown",
   "id": "9ca7f6c5",
   "metadata": {},
   "source": [
    "#### Part 2: Create a STAC (spatio-temporal asset catalog) for efficient searching"
   ]
  },
  {
   "cell_type": "markdown",
   "id": "6d69275a",
   "metadata": {},
   "source": [
    "The next task I imagine would be to integrate these data into one searchable dataset"
   ]
  },
  {
   "cell_type": "code",
   "execution_count": null,
   "id": "47659a7f",
   "metadata": {},
   "outputs": [],
   "source": []
  },
  {
   "cell_type": "markdown",
   "id": "45ce5427",
   "metadata": {},
   "source": [
    "#### Part 3: Quering the data for nearest depth and elevation "
   ]
  },
  {
   "cell_type": "markdown",
   "id": "15bc5ada",
   "metadata": {},
   "source": [
    "For a given coordinate pair, we wish to extract the corresponding elevation from the nearest grid node"
   ]
  },
  {
   "cell_type": "code",
   "execution_count": 3,
   "id": "2c04d0ee",
   "metadata": {},
   "outputs": [],
   "source": [
    "#test\n",
    "coords = [609410, 3342662]\n",
    "\n",
    "#threshold distance in meters to consider\n",
    "threshold_dist = 2000"
   ]
  },
  {
   "cell_type": "markdown",
   "id": "7a0f5004",
   "metadata": {},
   "source": [
    "Next, I would search the entire cuDEM dataset for all points satisfying the condition (points within `threshold_dist` of `coords`)\n",
    "\n",
    "Initially, I would use a kd-tree"
   ]
  },
  {
   "cell_type": "code",
   "execution_count": 4,
   "id": "48e1b312",
   "metadata": {},
   "outputs": [],
   "source": [
    "from scipy.spatial import KDTree"
   ]
  },
  {
   "cell_type": "code",
   "execution_count": null,
   "id": "264ad9e5",
   "metadata": {},
   "outputs": [],
   "source": []
  }
 ],
 "metadata": {
  "kernelspec": {
   "display_name": "Python 3",
   "language": "python",
   "name": "python3"
  },
  "language_info": {
   "codemirror_mode": {
    "name": "ipython",
    "version": 3
   },
   "file_extension": ".py",
   "mimetype": "text/x-python",
   "name": "python",
   "nbconvert_exporter": "python",
   "pygments_lexer": "ipython3",
   "version": "3.6.10"
  }
 },
 "nbformat": 4,
 "nbformat_minor": 5
}
