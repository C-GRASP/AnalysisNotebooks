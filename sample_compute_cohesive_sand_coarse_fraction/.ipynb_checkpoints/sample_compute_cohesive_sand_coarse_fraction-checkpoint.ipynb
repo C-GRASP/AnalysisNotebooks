{
 "cells": [
  {
   "cell_type": "markdown",
   "metadata": {},
   "source": [
    "<table style=\"font-size: 1em; padding: 0; margin: 0;\">\n",
    "\n",
    "<tr style=\"vertical-align: top; padding: 0; margin: 0;background-color: #ffffff\">\n",
    "        <td style=\"vertical-align: top; padding: 0; margin: 0; padding-right: 15px;\">\n",
    "    <p style=\"background: #182AEB; color:#ffffff; text-align:justify; padding: 10px 25px;\">\n",
    "        <strong style=\"font-size: 1.0em;\"><span style=\"font-size: 1.2em;\"><span style=\"color: #ffffff;\">The Coastal Grain Size Portal (C-GRASP) dataset <br/><em>Will Speiser, Daniel Buscombe, and Evan Goldstein</em></strong><br/><br/>\n",
    "        <strong>> Categorize Samples by percent sand, percent mud, and percent coarse </strong><br/>\n",
    "    </p>                       \n",
    "                \n",
    "<p style=\"border: 1px solid #ff5733; border-left: 15px solid #ff5733; padding: 10px; text-align:justify;\">\n",
    "    <strong style=\"color: #ff5733\">The purpose of this notebook</strong>  \n",
    "    <br/><font color=grey>  This notebook serves as a guide of how to calculate percent cohesive, percent sand, and percent coarse sediment for each sample within a chosen sample dataset.<font><br/>\n",
    "    <br/><font color=grey> Notebook will then run an iterative function that interpolates the cumulative distribution of each sample, and finds the percentage of samples that are below and above the minimum and wentworth classification of sand sediment grain size in millimeters respectively.<font><br/>\n",
    "    <br/><font color=grey> The code will compute and add threee new field to the input sample data dataframe for each sample that specifies the percent cohesives,sands, and coarse of the sample composition. To calculate interpolation error or to translate sample data from phi to mm units, see the other notebooks within this repository.<font><br/>    \n",
    "    </p>"
   ]
  },
  {
   "cell_type": "code",
   "execution_count": 13,
   "metadata": {},
   "outputs": [],
   "source": [
    "import pandas as pd\n",
    "import numpy as np\n",
    "import scipy\n",
    "from scipy.interpolate import interp1d\n",
    "import ipywidgets\n",
    "import matplotlib.pyplot as plt"
   ]
  },
  {
   "cell_type": "markdown",
   "metadata": {},
   "source": [
    "#### Choose a dataset"
   ]
  },
  {
   "cell_type": "code",
   "execution_count": 4,
   "metadata": {},
   "outputs": [
    {
     "data": {
      "application/vnd.jupyter.widget-view+json": {
       "model_id": "116299df25ef4a7b94d004eee001c3e8",
       "version_major": 2,
       "version_minor": 0
      },
      "text/plain": [
       "Select(description='Dataset:', options=('Entire Dataset', 'Estimated Onshore Data', 'Verified Onshore Data', '…"
      ]
     },
     "metadata": {},
     "output_type": "display_data"
    }
   ],
   "source": [
    "#Dataset collection widget\n",
    "zen=ipywidgets.Select(\n",
    "    options=['Entire Dataset', 'Estimated Onshore Data', 'Verified Onshore Data', 'Verified Onshore Post 2012 Data'],\n",
    "    value='Entire Dataset',\n",
    "    # rows=10,\n",
    "    description='Dataset:',\n",
    "    disabled=False\n",
    ")\n",
    "\n",
    "display(zen)"
   ]
  },
  {
   "cell_type": "markdown",
   "metadata": {},
   "source": [
    "#### Download chosen dataset"
   ]
  },
  {
   "cell_type": "code",
   "execution_count": 5,
   "metadata": {},
   "outputs": [
    {
     "name": "stdout",
     "output_type": "stream",
     "text": [
      "Downloading https://zenodo.org/record/5874231/files/Data_Post2012_VerifiedOnshore.csv\n"
     ]
    }
   ],
   "source": [
    "url = 'https://zenodo.org/record/5874231/files/' \n",
    "if zen.value=='Entire Dataset':\n",
    "    filename='dataset_10kmcoast.csv'\n",
    "if zen.value=='Estimated Onshore Data':\n",
    "    filename='Data_EstimatedOnshore.csv'\n",
    "if zen.value=='Verified Onshore Data':\n",
    "    filename='Data_VerifiedOnshore.csv'\n",
    "if zen.value=='Verified Onshore Post 2012 Data':\n",
    "    filename='Data_Post2012_VerifiedOnshore.csv'\n",
    "    \n",
    "print(\"Downloading {}\".format(url+filename))   "
   ]
  },
  {
   "cell_type": "code",
   "execution_count": 6,
   "metadata": {},
   "outputs": [
    {
     "name": "stdout",
     "output_type": "stream",
     "text": [
      "Retrieving Data, Please Wait\n",
      "Sediment Data Retrieved!\n"
     ]
    }
   ],
   "source": [
    "url=(url+filename)\n",
    "print('Retrieving Data, Please Wait')\n",
    "#retrieve data\n",
    "df=pd.read_csv(url)\n",
    "print('Sediment Data Retrieved!') "
   ]
  },
  {
   "cell_type": "markdown",
   "metadata": {},
   "source": [
    "#### Specify distributions\n",
    "\n",
    "In this cell specifiy the names of the given distributions within the sample data (i.e. d10, d50, d90) within the \"distributions\" variable. "
   ]
  },
  {
   "cell_type": "code",
   "execution_count": 18,
   "metadata": {},
   "outputs": [],
   "source": [
    "distributions=str('d10,d16,d25,d50,d65,d75,d84,d90')\n",
    "\n",
    "#extract distribution values and distribution names that were provided with the source dataset (e.g, 'd50' and .5)\n",
    "given_dist_vals=[]\n",
    "given_dist_names=[]\n",
    "\n",
    "for i in range(0,len((distributions).split(',',))):\n",
    "    a=(distributions).split(',',)[i]\n",
    "    b=a.split('d')[1]\n",
    "    val=int(b)/100\n",
    "    given_dist_names.append(a)\n",
    "    given_dist_vals.append(val)"
   ]
  },
  {
   "cell_type": "markdown",
   "metadata": {},
   "source": [
    "#### Calculate percent sand and percent cohesive\n",
    "\n",
    "Run this cell to calculate percent sand and percent cohesive. \n",
    "\n",
    "It will first iterate through each sample and calculate the percent sand via cumulative interpolation. Then it will take the found cumulative percentile for the minimum and maximum wentworth sand grain size (mm) then turn it into a percent fraction and assign the appropriate percent fractions for cohesive, coarse, and sand."
   ]
  },
  {
   "cell_type": "code",
   "execution_count": 8,
   "metadata": {},
   "outputs": [
    {
     "name": "stderr",
     "output_type": "stream",
     "text": [
      "C:\\Users\\dbuscombe\\Anaconda3\\envs\\cgrasp\\lib\\site-packages\\scipy\\interpolate\\interpolate.py:630: RuntimeWarning: divide by zero encountered in true_divide\n",
      "  slope = (y_hi - y_lo) / (x_hi - x_lo)[:, None]\n"
     ]
    }
   ],
   "source": [
    "\n",
    "for i in range(0,(len(df))):#repeats for each row, aka sample \n",
    "    #create an array of distribution grain sizes for each sample \n",
    "    grain_size_bins=[]\n",
    "    #This collects the values from the distributions\n",
    "    for ia in range(0,len((distributions).split(',',))):\n",
    "        bin_size=df[given_dist_names[ia]].iloc[i] \n",
    "        grain_size_bins.append(bin_size)\n",
    "        grain_size_frequencies=given_dist_vals\n",
    "\n",
    "        #This interpolates the value using the gathered \"original\" distributions from above\n",
    "    p=scipy.interpolate.interp1d(grain_size_bins,grain_size_frequencies, bounds_error=False, fill_value='extrapolate')\n",
    "\n",
    "    #This finds the cumulative percentile for the minimum wentworth sand grain size (mm) and compiles it into a column\n",
    "    df.loc[i,[\"%Sand\"]]=scipy.interpolate.interp1d(grain_size_bins,grain_size_frequencies, bounds_error=False, fill_value='extrapolate')(2.0)\n",
    "    df.loc[i,[\"%Cohesive\"]]=scipy.interpolate.interp1d(grain_size_bins,grain_size_frequencies, bounds_error=False, fill_value='extrapolate')(.063)\n"
   ]
  },
  {
   "cell_type": "markdown",
   "metadata": {},
   "source": [
    "Will, what does this code below do? please explain here"
   ]
  },
  {
   "cell_type": "code",
   "execution_count": 9,
   "metadata": {},
   "outputs": [],
   "source": [
    "#If Maximum cohesive grainsize is under 0th percentile, then 0% is cohesive\n",
    "df['%Cohesive']=np.where(df['%Cohesive']<0,0,df['%Cohesive'])\n",
    "#If Maximum cohesive grainsize is over 100th percentile, this sets it as 100% percent cohesive\n",
    "df['%Cohesive']=np.where(df['%Cohesive']>1,1,df['%Cohesive'])\n",
    "#If sand percentile is under 0%, this sets it to zero\n",
    "df[\"%Sand\"]=np.where(df[\"%Sand\"]<0,0,df[\"%Sand\"])\n",
    "#If percentile %sand is over 100%, this sets it to 100% sand\n",
    "df[\"%Sand\"]=np.where(df[\"%Sand\"]>1,1,df[\"%Sand\"])\n",
    "#This calculates the final sand fraction. If cohesive is 100th percentile, then sand is 0%\n",
    "df[\"%Sand\"]=df[\"%Sand\"]-df['%Cohesive']\n",
    "\n",
    "#Remaining percentile is gravel\n",
    "df['%Coarse']=1-df[\"%Sand\"]-df['%Cohesive']"
   ]
  },
  {
   "cell_type": "markdown",
   "metadata": {},
   "source": [
    "#### Make a quick plot to view distribution of 'percent sand'"
   ]
  },
  {
   "cell_type": "code",
   "execution_count": 14,
   "metadata": {},
   "outputs": [
    {
     "data": {
      "text/plain": [
       "(array([108.,   2.,   1.,   1.,   1.,   0.,   1.,   1.,   4., 217.]),\n",
       " array([0. , 0.1, 0.2, 0.3, 0.4, 0.5, 0.6, 0.7, 0.8, 0.9, 1. ]),\n",
       " <BarContainer object of 10 artists>)"
      ]
     },
     "execution_count": 14,
     "metadata": {},
     "output_type": "execute_result"
    },
    {
     "data": {
      "image/png": "[encoded data removed]",
      "text/plain": [
       "<Figure size 432x288 with 1 Axes>"
      ]
     },
     "metadata": {
      "needs_background": "light"
     },
     "output_type": "display_data"
    }
   ],
   "source": [
    "plt.hist(df['%Sand'])"
   ]
  },
  {
   "cell_type": "markdown",
   "metadata": {},
   "source": [
    "### Output to file"
   ]
  },
  {
   "cell_type": "markdown",
   "metadata": {},
   "source": [
    "Finally, define a csv file name for the output dataframe"
   ]
  },
  {
   "cell_type": "code",
   "execution_count": 15,
   "metadata": {},
   "outputs": [],
   "source": [
    "output_csvfile='../data_plus_fractions.csv'"
   ]
  },
  {
   "cell_type": "markdown",
   "metadata": {},
   "source": [
    "write the data to that csv file"
   ]
  },
  {
   "cell_type": "code",
   "execution_count": 17,
   "metadata": {},
   "outputs": [],
   "source": [
    "df.to_csv(output_csvfile) #convert data to CSV"
   ]
  },
  {
   "cell_type": "code",
   "execution_count": null,
   "metadata": {},
   "outputs": [],
   "source": []
  }
 ],
 "metadata": {
  "kernelspec": {
   "display_name": "Python 3 (ipykernel)",
   "language": "python",
   "name": "python3"
  },
  "language_info": {
   "codemirror_mode": {
    "name": "ipython",
    "version": 3
   },
   "file_extension": ".py",
   "mimetype": "text/x-python",
   "name": "python",
   "nbconvert_exporter": "python",
   "pygments_lexer": "ipython3",
   "version": "3.10.2"
  }
 },
 "nbformat": 4,
 "nbformat_minor": 4
}
