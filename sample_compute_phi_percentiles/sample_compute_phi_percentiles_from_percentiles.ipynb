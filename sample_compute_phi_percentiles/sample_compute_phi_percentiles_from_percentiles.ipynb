{
 "cells": [
  {
   "cell_type": "code",
   "execution_count": null,
   "id": "6075149d",
   "metadata": {},
   "outputs": [],
   "source": [
    "import pandas as pd\n",
    "import numpy as np\n",
    "import scipy\n",
    "from math import sin, cos, sqrt, atan2,  radians, degrees, tan, log\n",
    "from scipy.interpolate import interp1d\n",
    "\n",
    "#Input sample data file path:\n",
    "in_path='/data.csv'\n",
    "\n",
    "\n",
    "df=pd.read_csv(in_path)\n",
    "i=0\n",
    "for i in range(0,len(df)):\n",
    "        #Set variables for columns of provided percentiles. E.g.:\n",
    "        d10=df['d10'].iloc[i]\n",
    "        d50=df['d50'].iloc[i]\n",
    "        d90=df['d90'].iloc[i]\n",
    "        \n",
    "        #Enter percentile values in brackets for frequencies. E.g.:\n",
    "        grain_size_frequencies=[.1,.5,.9]\n",
    "        \n",
    "        #Enter in respective variables in brackets:\n",
    "        grain_size_bins=[d10,d50,d90]\n",
    "        \n",
    "\n",
    "        #Interpolate function:\n",
    "        distribution = scipy.interpolate.interp1d(grain_size_frequencies, grain_size_bins, bounds_error=False, fill_value='extrapolate')\n",
    "\n",
    "        #Create desired columns of percentile values you wish to compute. Enter in percentile into function parentheses:\n",
    "        df.loc[i,[\"d5\"]] = distribution(.05)\n",
    "        df.loc[i,[\"d16\"]]= distribution(.16)\n",
    "        df.loc[i,[\"d25\"]]= distribution(.25)\n",
    "        df.loc[i,[\"d30\"]]= distribution(.3)\n",
    "        df.loc[i,[\"d75\"]] = distribution(.75)\n",
    "        df.loc[i,[\"d84\"]]= distribution(.84)\n",
    "        df.loc[i,[\"d95\"]]= distribution(.95)\n",
    "\n",
    " "
   ]
  }
 ],
 "metadata": {
  "kernelspec": {
   "display_name": "Python 3",
   "language": "python",
   "name": "python3"
  },
  "language_info": {
   "codemirror_mode": {
    "name": "ipython",
    "version": 3
   },
   "file_extension": ".py",
   "mimetype": "text/x-python",
   "name": "python",
   "nbconvert_exporter": "python",
   "pygments_lexer": "ipython3",
   "version": "3.8.10"
  }
 },
 "nbformat": 4,
 "nbformat_minor": 5
}
