{
 "cells": [
  {
   "cell_type": "code",
   "execution_count": null,
   "id": "c8b31ec9",
   "metadata": {
    "scrolled": true
   },
   "outputs": [],
   "source": [
    "import pandas as pd\n",
    "import geopandas as gpd\n",
    "import numpy as np\n",
    "import math\n",
    "import scipy\n",
    "\n",
    "from scipy.interpolate import interp1d\n"
   ]
  },
  {
   "cell_type": "code",
   "execution_count": null,
   "id": "65f52eeb",
   "metadata": {
    "scrolled": true
   },
   "outputs": [],
   "source": [
    "#input dataset csv\n",
    "df= pd.read_csv('.../data.csv')\n",
    "#input number of given distributions in dataset\n",
    "num_given_dists=  #e.g.: 8\n",
    "\n",
    "\n",
    "#input names and distributions for known values... \n",
    "given_dist_names= #e.g.:['d10', 'd16', 'd25', 'd50', 'd65','d75','d84', 'd90']\n",
    "given_dist_vals= #e.g.:[.1, .16, .25, .5, .65,.75,.84, .9]\n",
    "\n",
    "\n",
    "i=0\n",
    "n=0\n",
    "\n",
    "#calculate interpolation error for each given distribution\n",
    "for n in range (0,num_given_dists): #Repeat for each distribution\n",
    "    \n",
    "    new_dist_names=np.delete(given_dist_names, n)\n",
    "    new_dist_vals=np.delete(given_dist_vals, n)\n",
    "    focus_column=given_dist_names[n]\n",
    "    focus_column_value=given_dist_vals[n]\n",
    "    calc_column=given_dist_names[n]+'_calc'\n",
    "    error_column=given_dist_names[n]+'_error'\n",
    "    for i in range(0,len(sandsnap)): #repeat for each row\n",
    "            #create appropriate number of bins (e.g. num_given_dists-1)\n",
    "            bin_0=df[new_dist_names[0]].iloc[i]\n",
    "            bin_1=df[new_dist_names[1]].iloc[i]\n",
    "            bin_2=df[new_dist_names[2]].iloc[i]\n",
    "            bin_3=df[new_dist_names[3]].iloc[i]\n",
    "            bin_4=df[new_dist_names[4]].iloc[i]\n",
    "            bin_5=df[new_dist_names[5]].iloc[i]\n",
    "            bin_6=df[new_dist_names[6]].iloc[i]\n",
    "\n",
    "            #Input correct bins in here:\n",
    "            grain_size_bins=[bin_0,bin_1,bin_2,bin_3,bin_4,bin_5,bin_6]\n",
    "            \n",
    "            grain_size_frequencies=new_dist_vals\n",
    "            distribution = scipy.interpolate.interp1d(grain_size_frequencies, grain_size_bins, bounds_error=False, fill_value='extrapolate')\n",
    "            \n",
    "            df.loc[i,[calc_column]] = distribution(given_dist_vals[n])\n",
    "\n",
    "            i=i+1\n",
    "            \n",
    "    df[error_column]=((df[calc_column]-df[focus_column])/df[focus_column])*100\n",
    "    n=n+1\n",
    "\n",
    "\n",
    "print('Distibutions Interpolation Error Calculated')\n",
    "\n"
   ]
  }
 ],
 "metadata": {
  "kernelspec": {
   "display_name": "Python 3",
   "language": "python",
   "name": "python3"
  },
  "language_info": {
   "codemirror_mode": {
    "name": "ipython",
    "version": 3
   },
   "file_extension": ".py",
   "mimetype": "text/x-python",
   "name": "python",
   "nbconvert_exporter": "python",
   "pygments_lexer": "ipython3",
   "version": "3.8.10"
  }
 },
 "nbformat": 4,
 "nbformat_minor": 5
}
